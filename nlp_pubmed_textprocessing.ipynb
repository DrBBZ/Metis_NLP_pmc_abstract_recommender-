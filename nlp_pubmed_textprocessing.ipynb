{
 "cells": [
  {
   "cell_type": "markdown",
   "id": "b3b8cb3c-f8b6-4cbd-bab8-51041f74a141",
   "metadata": {},
   "source": [
    "import pandas as pd\n",
    "import numpy as np\n",
    "import re\n",
    "import string\n",
    "import nltk\n",
    "nltk.download('stopwords')\n",
    "nltk.download('words')\n",
    "nltk.download('wordnet')\n",
    "from nltk.tokenize import word_tokenize, sent_tokenize,RegexpTokenizer\n",
    "from nltk.stem import PorterStemmer, WordNetLemmatizer\n",
    "from nltk.stem.lancaster import LancasterStemmer\n",
    "from nltk.util import ngrams\n",
    "from nltk.corpus import stopwords\n",
    "set(stopwords.words('english'))\n",
    "\n",
    "from sklearn.feature_extraction.text import CountVectorizer\n",
    "from sklearn.feature_extraction.text import TfidfVectorizer\n",
    "from sklearn.decomposition import TruncatedSVD\n",
    "from sklearn.decomposition import NMF\n",
    "from sklearn.metrics.pairwise import cosine_similarity\n",
    "from sklearn.metrics import pairwise_distances\n",
    "\n",
    "from gensim import corpora, models, similarities, matutils\n",
    "\n",
    "from wordcloud import WordCloud\n",
    "\n",
    "#import umap\n",
    "import seaborn as sns\n",
    "import sklearn.cluster as cluster\n",
    "\n",
    "import pyLDAvis\n",
    "#import pyLDAvis.gensim\n",
    "import pyLDAvis.gensim_models\n",
    "\n"
   ]
  },
  {
   "cell_type": "code",
   "execution_count": 1,
   "id": "4514f364-3a04-4795-8d6a-4774234ba94e",
   "metadata": {},
   "outputs": [],
   "source": [
    "import pandas as pd \n",
    "import numpy as np # linear algebra\n",
    "import matplotlib.pyplot as plt # plotting\n",
    "import seaborn as sns\n",
    "\n",
    "from sklearn import preprocessing\n",
    "\n",
    "import nltk\n",
    "#nltk.download('stopwords')\n",
    "#nltk.download('words')\n",
    "\n",
    "from nltk.corpus import stopwords\n",
    "set(stopwords.words('english'))\n",
    "\n",
    "from nltk.tokenize import sent_tokenize, word_tokenize \n",
    "from nltk.tag import pos_tag, pos_tag_sents\n",
    "from nltk.corpus import wordnet\n",
    "from nltk.stem import WordNetLemmatizer\n",
    "from nltk.stem.lancaster import LancasterStemmer\n",
    "\n",
    "import string\n",
    "import re\n",
    "#import contractions\n",
    "import warnings\n",
    "\n",
    "#from my_functions import *\n",
    "from nltk.stem import WordNetLemmatizer\n",
    "from sklearn.feature_extraction.text import ENGLISH_STOP_WORDS"
   ]
  },
  {
   "cell_type": "code",
   "execution_count": null,
   "id": "45ee3f5e-1d03-4fcc-aab1-237a269a7218",
   "metadata": {},
   "outputs": [],
   "source": []
  },
  {
   "cell_type": "markdown",
   "id": "e6129e57-bc18-4ee2-9186-8618ccb2918c",
   "metadata": {},
   "source": [
    "#JP \n",
    "corpus_list = []\n",
    "with open(\"pmc_result-2.txt\", \"r\") as f:\n",
    "    f = f.readlines()\n",
    "    doc_list = []\n",
    "    for line in f:\n",
    "        # print(line, \"/\")\n",
    "        if len(line) > 4 and line[4] == '-' and len(doc_list) == 0:\n",
    "            line = line.replace('\\n', ' ').strip()\n",
    "            doc_list.append(line)\n",
    "        elif len(line) > 4 and line[4] != '-':\n",
    "            line = line.replace('\\n', ' ').strip()\n",
    "            doc_list.append(line)\n",
    "        elif len(line) > 4 and line[4] == '-' and len(doc_list) > 0:\n",
    "            line = line.replace('\\n', ' ').strip()\n",
    "            #corpus_list.append(' '.join(doc_list))\n",
    "            corpus_list.append(' '.join(doc_list))\n",
    "            doc_list = []\n",
    "            doc_list.append(line)\n",
    "df_raw = pd.DataFrame(corpus_list) #JL df=pd.read_csv('pmc_result-2.txt',delimiter='\\t',header=None) "
   ]
  },
  {
   "cell_type": "markdown",
   "id": "e0f0b097-dfc6-4b42-b204-708fa5b094e2",
   "metadata": {},
   "source": [
    "\n",
    "dict_dp = {} \n",
    "for i in df_raw[0]:\n",
    "    #mini_list=[]\n",
    "    if 'PMC' in i.split(' - ')[0]:\n",
    "        #mini_list.append(i)\n",
    "        dp=i\n",
    "    if 'TI' in i.split(' - ')[0]:\n",
    "        title=i\n",
    "    if 'AB' in i.split(' - ')[0]:\n",
    "        dict_dp[dp]=list([title,i])\n",
    "    else:\n",
    "        pass\n",
    "df_dp = pd.DataFrame.from_dict(dict_dp, orient ='index') "
   ]
  },
  {
   "cell_type": "code",
   "execution_count": 2,
   "id": "5ace0038-3385-4231-ae13-08b2448299d4",
   "metadata": {},
   "outputs": [],
   "source": [
    "#df_dp.to_pickle(\"abstract_pmc_title.pkl\")  \n",
    "df1 = pd.read_pickle(\"abstract_pmc_title.pkl\")  #note that df dp became df1"
   ]
  },
  {
   "cell_type": "code",
   "execution_count": 32,
   "id": "83a762ef-c1a2-441c-bbe4-0c1c70130750",
   "metadata": {},
   "outputs": [
    {
     "name": "stdout",
     "output_type": "stream",
     "text": [
      "There are 56024 rows and 2 columns\n"
     ]
    }
   ],
   "source": [
    "nRow, nCol = df1.shape\n",
    "print(f'There are {nRow} rows and {nCol} columns')"
   ]
  },
  {
   "cell_type": "code",
   "execution_count": 3,
   "id": "bb690733-cee6-460a-8f05-7792068fed9d",
   "metadata": {},
   "outputs": [
    {
     "data": {
      "text/html": [
       "<div>\n",
       "<style scoped>\n",
       "    .dataframe tbody tr th:only-of-type {\n",
       "        vertical-align: middle;\n",
       "    }\n",
       "\n",
       "    .dataframe tbody tr th {\n",
       "        vertical-align: top;\n",
       "    }\n",
       "\n",
       "    .dataframe thead th {\n",
       "        text-align: right;\n",
       "    }\n",
       "</style>\n",
       "<table border=\"1\" class=\"dataframe\">\n",
       "  <thead>\n",
       "    <tr style=\"text-align: right;\">\n",
       "      <th></th>\n",
       "      <th>0</th>\n",
       "      <th>1</th>\n",
       "    </tr>\n",
       "  </thead>\n",
       "  <tbody>\n",
       "    <tr>\n",
       "      <th>PMC - PMC8623061</th>\n",
       "      <td>TI  - The Safe and Effective Use of Plant-Base...</td>\n",
       "      <td>AB  - Plant-based diets, defined here as inclu...</td>\n",
       "    </tr>\n",
       "    <tr>\n",
       "      <th>PMC - PMC7176641</th>\n",
       "      <td>TI  - Prevalence and psychopathology of vegeta...</td>\n",
       "      <td>AB  - The aim of the study was to investigate ...</td>\n",
       "    </tr>\n",
       "  </tbody>\n",
       "</table>\n",
       "</div>"
      ],
      "text/plain": [
       "                                                                  0  \\\n",
       "PMC - PMC8623061  TI  - The Safe and Effective Use of Plant-Base...   \n",
       "PMC - PMC7176641  TI  - Prevalence and psychopathology of vegeta...   \n",
       "\n",
       "                                                                  1  \n",
       "PMC - PMC8623061  AB  - Plant-based diets, defined here as inclu...  \n",
       "PMC - PMC7176641  AB  - The aim of the study was to investigate ...  "
      ]
     },
     "execution_count": 3,
     "metadata": {},
     "output_type": "execute_result"
    }
   ],
   "source": [
    "df1.head(2)"
   ]
  },
  {
   "cell_type": "code",
   "execution_count": 4,
   "id": "d0c633a0-d68e-4ebc-bf75-ebeaec7d1db0",
   "metadata": {},
   "outputs": [],
   "source": [
    "df_abstractetc = df1.reset_index()"
   ]
  },
  {
   "cell_type": "code",
   "execution_count": 5,
   "id": "ecd39cae-8a4c-43da-9895-cbc535ecd4eb",
   "metadata": {},
   "outputs": [],
   "source": [
    "df_abstractetc.rename(columns = {'index':'pmc',0:'title', 1:'abstract'}, inplace=True)"
   ]
  },
  {
   "cell_type": "code",
   "execution_count": 6,
   "id": "c3d1ba74-9431-49dc-b089-e5a15a2c04c4",
   "metadata": {},
   "outputs": [
    {
     "data": {
      "text/html": [
       "<div>\n",
       "<style scoped>\n",
       "    .dataframe tbody tr th:only-of-type {\n",
       "        vertical-align: middle;\n",
       "    }\n",
       "\n",
       "    .dataframe tbody tr th {\n",
       "        vertical-align: top;\n",
       "    }\n",
       "\n",
       "    .dataframe thead th {\n",
       "        text-align: right;\n",
       "    }\n",
       "</style>\n",
       "<table border=\"1\" class=\"dataframe\">\n",
       "  <thead>\n",
       "    <tr style=\"text-align: right;\">\n",
       "      <th></th>\n",
       "      <th>pmc</th>\n",
       "      <th>title</th>\n",
       "      <th>abstract</th>\n",
       "    </tr>\n",
       "  </thead>\n",
       "  <tbody>\n",
       "    <tr>\n",
       "      <th>0</th>\n",
       "      <td>PMC - PMC8623061</td>\n",
       "      <td>TI  - The Safe and Effective Use of Plant-Base...</td>\n",
       "      <td>AB  - Plant-based diets, defined here as inclu...</td>\n",
       "    </tr>\n",
       "    <tr>\n",
       "      <th>1</th>\n",
       "      <td>PMC - PMC7176641</td>\n",
       "      <td>TI  - Prevalence and psychopathology of vegeta...</td>\n",
       "      <td>AB  - The aim of the study was to investigate ...</td>\n",
       "    </tr>\n",
       "    <tr>\n",
       "      <th>2</th>\n",
       "      <td>PMC - PMC8746448</td>\n",
       "      <td>TI  - Nutrient Intake and Status in Adults Con...</td>\n",
       "      <td>AB  - Health authorities increasingly recommen...</td>\n",
       "    </tr>\n",
       "  </tbody>\n",
       "</table>\n",
       "</div>"
      ],
      "text/plain": [
       "                pmc                                              title  \\\n",
       "0  PMC - PMC8623061  TI  - The Safe and Effective Use of Plant-Base...   \n",
       "1  PMC - PMC7176641  TI  - Prevalence and psychopathology of vegeta...   \n",
       "2  PMC - PMC8746448  TI  - Nutrient Intake and Status in Adults Con...   \n",
       "\n",
       "                                            abstract  \n",
       "0  AB  - Plant-based diets, defined here as inclu...  \n",
       "1  AB  - The aim of the study was to investigate ...  \n",
       "2  AB  - Health authorities increasingly recommen...  "
      ]
     },
     "execution_count": 6,
     "metadata": {},
     "output_type": "execute_result"
    }
   ],
   "source": [
    "df_abstractetc.head(3)"
   ]
  },
  {
   "cell_type": "code",
   "execution_count": 2,
   "id": "1e5f613e-ed10-4b45-8fff-4172f96b5894",
   "metadata": {},
   "outputs": [],
   "source": [
    "#df_abstractetc.to_pickle(\"abstract_pmc_titlev2.pkl\")  # Save a copy\n",
    "#df = pd.read_pickle(\"abstract_pmc_titlev2.pkl\") "
   ]
  },
  {
   "cell_type": "code",
   "execution_count": 5,
   "id": "94474701-7158-4e5c-8867-1c5346cd8937",
   "metadata": {},
   "outputs": [
    {
     "name": "stdout",
     "output_type": "stream",
     "text": [
      "<class 'pandas.core.frame.DataFrame'>\n",
      "Int64Index: 3684 entries, 0 to 56020\n",
      "Data columns (total 3 columns):\n",
      " #   Column    Non-Null Count  Dtype \n",
      "---  ------    --------------  ----- \n",
      " 0   pmc       3684 non-null   object\n",
      " 1   title     3684 non-null   object\n",
      " 2   abstract  3684 non-null   object\n",
      "dtypes: object(3)\n",
      "memory usage: 115.1+ KB\n"
     ]
    }
   ],
   "source": [
    "# search the key words terms in abstract\n",
    "key_words = ['vegetarian','vegetarians','vegans','vegan','plant based','plant-based', 'plantbased']\n",
    "key_words_pattern = '|'.join(key_words)\n",
    "df_veg = df_abstractetc[df_abstractetc.abstract.str.contains(key_words_pattern,case=False)] \n",
    "df_veg.info()\n",
    " # the key words were used to select 3870 abstracts (out of 56024) contains at least one of the key_words = ['vegetarian','vegetarians','vegans','vegan','plant based','plant-based', 'plantbased'] "
   ]
  },
  {
   "cell_type": "code",
   "execution_count": 8,
   "id": "03124a54-f4de-4043-a0b1-4202d0f968b7",
   "metadata": {},
   "outputs": [
    {
     "name": "stderr",
     "output_type": "stream",
     "text": [
      "<ipython-input-8-ef0cf7052acf>:1: SettingWithCopyWarning: \n",
      "A value is trying to be set on a copy of a slice from a DataFrame.\n",
      "Try using .loc[row_indexer,col_indexer] = value instead\n",
      "\n",
      "See the caveats in the documentation: https://pandas.pydata.org/pandas-docs/stable/user_guide/indexing.html#returning-a-view-versus-a-copy\n",
      "  df_veg['abstract'] = df_veg['abstract'].str[5:]\n",
      "<ipython-input-8-ef0cf7052acf>:2: SettingWithCopyWarning: \n",
      "A value is trying to be set on a copy of a slice from a DataFrame.\n",
      "Try using .loc[row_indexer,col_indexer] = value instead\n",
      "\n",
      "See the caveats in the documentation: https://pandas.pydata.org/pandas-docs/stable/user_guide/indexing.html#returning-a-view-versus-a-copy\n",
      "  df_veg['title'] = df_veg['title'].str[5:]\n",
      "<ipython-input-8-ef0cf7052acf>:3: SettingWithCopyWarning: \n",
      "A value is trying to be set on a copy of a slice from a DataFrame.\n",
      "Try using .loc[row_indexer,col_indexer] = value instead\n",
      "\n",
      "See the caveats in the documentation: https://pandas.pydata.org/pandas-docs/stable/user_guide/indexing.html#returning-a-view-versus-a-copy\n",
      "  df_veg['pmc'] = df_veg['pmc'].str[5:]\n"
     ]
    }
   ],
   "source": [
    "df_veg['abstract'] = df_veg['abstract'].str[5:]\n",
    "df_veg['title'] = df_veg['title'].str[5:]\n",
    "df_veg['pmc'] = df_veg['pmc'].str[5:]"
   ]
  },
  {
   "cell_type": "code",
   "execution_count": 10,
   "id": "1b50756a-6037-4943-9d46-28889762d066",
   "metadata": {},
   "outputs": [],
   "source": [
    "#df_veg.to_pickle(\"nlp_corpus_abstractv2.pkl\")  \n"
   ]
  },
  {
   "cell_type": "code",
   "execution_count": 7,
   "id": "2a279df8-6d10-48d7-a958-2c094b5b91b9",
   "metadata": {},
   "outputs": [
    {
     "data": {
      "text/plain": [
       "0"
      ]
     },
     "execution_count": 7,
     "metadata": {},
     "output_type": "execute_result"
    }
   ],
   "source": [
    "df_veg.duplicated(subset=['abstract'], keep=False).sum() #check to see whether there are duplicates"
   ]
  },
  {
   "cell_type": "markdown",
   "id": "8a7e9888-2607-41a8-9fad-68c3b963c13a",
   "metadata": {},
   "source": [
    "### Read in the file\n",
    "Read in the file "
   ]
  },
  {
   "cell_type": "code",
   "execution_count": null,
   "id": "16fe76a5-108f-47c5-98b0-cee90e308511",
   "metadata": {},
   "outputs": [],
   "source": []
  },
  {
   "cell_type": "code",
   "execution_count": 12,
   "id": "c9b3b567-d414-41f6-b300-5be424d861fa",
   "metadata": {},
   "outputs": [
    {
     "data": {
      "text/plain": [
       "Index(['pmc', 'title', 'abstract'], dtype='object')"
      ]
     },
     "execution_count": 12,
     "metadata": {},
     "output_type": "execute_result"
    }
   ],
   "source": []
  },
  {
   "cell_type": "code",
   "execution_count": 67,
   "id": "98c8cbd1-ef23-4c27-aaf9-2ace4fe452c8",
   "metadata": {},
   "outputs": [
    {
     "name": "stderr",
     "output_type": "stream",
     "text": [
      "<ipython-input-67-ef0cf7052acf>:1: SettingWithCopyWarning: \n",
      "A value is trying to be set on a copy of a slice from a DataFrame.\n",
      "Try using .loc[row_indexer,col_indexer] = value instead\n",
      "\n",
      "See the caveats in the documentation: https://pandas.pydata.org/pandas-docs/stable/user_guide/indexing.html#returning-a-view-versus-a-copy\n",
      "  df_veg['abstract'] = df_veg['abstract'].str[5:]\n",
      "<ipython-input-67-ef0cf7052acf>:2: SettingWithCopyWarning: \n",
      "A value is trying to be set on a copy of a slice from a DataFrame.\n",
      "Try using .loc[row_indexer,col_indexer] = value instead\n",
      "\n",
      "See the caveats in the documentation: https://pandas.pydata.org/pandas-docs/stable/user_guide/indexing.html#returning-a-view-versus-a-copy\n",
      "  df_veg['title'] = df_veg['title'].str[5:]\n",
      "<ipython-input-67-ef0cf7052acf>:3: SettingWithCopyWarning: \n",
      "A value is trying to be set on a copy of a slice from a DataFrame.\n",
      "Try using .loc[row_indexer,col_indexer] = value instead\n",
      "\n",
      "See the caveats in the documentation: https://pandas.pydata.org/pandas-docs/stable/user_guide/indexing.html#returning-a-view-versus-a-copy\n",
      "  df_veg['pmc'] = df_veg['pmc'].str[5:]\n"
     ]
    }
   ],
   "source": [
    "# df_veg = pd.read_pickle(\"nlp_corpus_abstractv2.pkl\") "
   ]
  },
  {
   "cell_type": "code",
   "execution_count": 13,
   "id": "619d132b-6fd1-4e27-baed-7b7fc1e38f46",
   "metadata": {},
   "outputs": [],
   "source": [
    "df=df_veg.copy()"
   ]
  },
  {
   "cell_type": "code",
   "execution_count": 74,
   "id": "a0ef0582-0f0b-4e74-b6e9-cd9974234d54",
   "metadata": {},
   "outputs": [
    {
     "data": {
      "text/plain": [
       "' Although current research has contributed to the promotion of whole-food plant-based diets, few studies have examined healthy vegan dietary and lifestyle factors, especially in South America. Therefore, we aimed at investigating the adherence to healthy vegan lifestyle habits among Argentinian vegetarians and omnivorous, using a recently developed vegetarian lifestyle index adapted to the vegan dietary pattern. Also, accessibility of vegetarian foods, and the proportion of household income spent on food were assessed in a cross-sectional approach with 1454 participants. The population was comprised of females (84.9%), singles (55.0%), young-adults (mean age 32.1, standard deviation (SD) = 13.6), employed (50.8%), with high educational levels (50.4%), and low prevalence of both tobacco smoking (7.0%) and frequent alcohol consumption (7.6%). The mean score of adherence to healthy vegan lifestyle habits was 6.64 (SD = 1.72), with higher scores indicating better adherence. Non-vegetarians (5.75; 95% confidence interval (CI), 5.61–5.89) had a significantly lower adjusted mean score compared to semi-(6.32; 95% CI, 6.17–6.47), pesco-(6.99; 95% CI, 6.59–7.39), lacto-ovo-vegetarians (7.10; 95% CI, 6.96–7.24), as well as vegans (8.59; 95% CI, 8.35–8.83). The mean proportion of household income spent on food was significantly lower among vegans compared with other dietary patterns. The whole population that was studied showed a low consumption of whole grains, legumes, vegetables, nuts, and seeds. Although vegans showed a better diet and lifestyle pattern there is a need to improve eating and lifestyle habits to address risk factors for non-communicable diseases in Argentina.'"
      ]
     },
     "execution_count": 74,
     "metadata": {},
     "output_type": "execute_result"
    }
   ],
   "source": [
    "df['abstract'][8] # This is a summary of plant-based diets impact of preventative and therapeutic roles, and recommendations for health professionals."
   ]
  },
  {
   "cell_type": "code",
   "execution_count": 76,
   "id": "7a2d6ec1-a929-4123-b403-6c72ffdf9175",
   "metadata": {},
   "outputs": [
    {
     "data": {
      "text/plain": [
       "' Plant-based diets, defined here as including both vegan and lacto-ovo-vegetarian diets, are growing in popularity throughout the Western world for various reasons, including concerns for human health and the health of the planet. Plant-based diets are more environmentally sustainable than meat-based diets and have a reduced environmental impact, including producing lower levels of greenhouse gas emissions. Dietary guidelines are normally formulated to enhance the health of society, reduce the risk of chronic diseases, and prevent nutritional deficiencies. We reviewed the scientific data on plant-based diets to summarize their preventative and therapeutic role in cardiovascular disease, cancer, diabetes, obesity, and osteoporosis. Consuming plant-based diets is safe and effective for all stages of the life cycle, from pregnancy and lactation, to childhood, to old age. Plant-based diets, which are high in fiber and polyphenolics, are also associated with a diverse gut microbiota, producing metabolites that have anti-inflammatory functions that may help manage disease processes. Concerns about the adequate intake of a number of nutrients, including vitamin B12, calcium, vitamin D, iron, zinc, and omega-3 fats, are discussed. The use of fortified foods and/or supplements as well as appropriate food choices are outlined for each nutrient. Finally, guidelines are suggested for health professionals working with clients consuming plant-based diets.'"
      ]
     },
     "execution_count": 76,
     "metadata": {},
     "output_type": "execute_result"
    }
   ],
   "source": [
    "df['abstract'][0] # This article talks about the prevalence, attitudes about veg diets and a few indicators with survey."
   ]
  },
  {
   "cell_type": "code",
   "execution_count": 6,
   "id": "aded6a39-22d2-45b4-809c-4944cb032f5e",
   "metadata": {},
   "outputs": [
    {
     "data": {
      "text/plain": [
       "' Health authorities increasingly recommend a more plant-based diet, rich in fruits, vegetables, pulses, whole grains and nuts, low in red meat and moderate in dairy, eggs, poultry and fish which will be beneficial for both health and the environment. A systematic review of observational and intervention studies published between 2000 and January 2020 was conducted to assess nutrient intake and status in adult populations consuming plant-based diets (mainly vegetarian and vegan) with that of meat-eaters. Mean intake of nutrients were calculated and benchmarked to dietary reference values. For micronutrient status, mean concentrations of biomarkers were calculated and compared across diet groups. A total of 141 studies were included, mostly from Europe, South/East Asia, and North America. Protein intake was lower in people following plant-based diets compared to meat-eaters, but well within recommended intake levels. While fiber, polyunsaturated fatty acids (PUFA), folate, vitamin C, E and magnesium intake was higher, eicosapentaenoic acid (EPA) and docosahexaenoic acid (DHA) intake was lower in vegetarians and vegans as compared to meat-eaters. Intake and status of vitamin B12, vitamin D, iron, zinc, iodine, calcium and bone turnover markers were generally lower in plant-based dietary patterns compared to meat-eaters. Vegans had the lowest vitamin B12, calcium and iodine intake, and also lower iodine status and lower bone mineral density. Meat-eaters were at risk of inadequate intakes of fiber, PUFA, α-linolenic acid (ALA), folate, vitamin D, E, calcium and magnesium. There were nutrient inadequacies across all dietary patterns, including vegan, vegetarian and meat-based diets. As plant-based diets are generally better for health and the environment, public health strategies should facilitate the transition to a balanced diet with more diverse nutrient-dense plant foods through consumer education, food fortification and possibly supplementation.'"
      ]
     },
     "execution_count": 6,
     "metadata": {},
     "output_type": "execute_result"
    }
   ],
   "source": [
    "df['abstract'][105] # Systematic review on studies to asses nutrient intake in adults and compare vegans and vegetarians."
   ]
  },
  {
   "cell_type": "code",
   "execution_count": 14,
   "id": "86e7f558-0001-4f95-a026-1285826ef25e",
   "metadata": {},
   "outputs": [
    {
     "data": {
      "text/plain": [
       "575       31\n",
       "5426      36\n",
       "3748      40\n",
       "22069     46\n",
       "275       48\n",
       "        ... \n",
       "12158    595\n",
       "697      598\n",
       "7293     598\n",
       "1875     665\n",
       "1577     792\n",
       "Name: abstract, Length: 3684, dtype: int64"
      ]
     },
     "execution_count": 14,
     "metadata": {},
     "output_type": "execute_result"
    }
   ],
   "source": [
    "count = df['abstract'].str.split().str.len()\n",
    "count.index = count.index.astype(str)\n",
    "#count.sort_index(inplace = True)\n",
    "count.sort_values(ascending = True,inplace = True)\n",
    "count"
   ]
  },
  {
   "cell_type": "code",
   "execution_count": 15,
   "id": "c4814d69-2efe-4eb5-8c60-0fe291658988",
   "metadata": {},
   "outputs": [
    {
     "name": "stdout",
     "output_type": "stream",
     "text": [
      "Max abstract length - characters:  5617\n",
      "Max abstract length - words:  792\n",
      "Min abstract length - characters:  204\n",
      "Min abstract length - words:  31\n",
      "Mean abstract length - characters:  1652.8960369163951\n",
      "Mean abstract length - words:  239.29370249728555\n"
     ]
    }
   ],
   "source": [
    "# Longest abstract length - characters\n",
    "max_abstract_c = df['abstract'].str.len().max()\n",
    "# Longest abstract length - words \n",
    "max_abstract_w = df['abstract'].str.split().str.len().max()\n",
    "\n",
    "# Shortest abstract length - characters\n",
    "min_abstract_c = df['abstract'].str.len().min()\n",
    "# Shortest abstract length - words\n",
    "min_abstract_w = df['abstract'].str.split().str.len().min()\n",
    "\n",
    "# Mean abstract length - characters\n",
    "mean_abstract_c = df['abstract'].str.len().mean()\n",
    "# Mean abstract length - words\n",
    "mean_abstract_w = df['abstract'].str.split().str.len().mean()\n",
    "\n",
    "print(\"Max abstract length - characters: \", max_abstract_c)\n",
    "print(\"Max abstract length - words: \", max_abstract_w)\n",
    "print(\"Min abstract length - characters: \", min_abstract_c)\n",
    "print(\"Min abstract length - words: \", min_abstract_w)\n",
    "print(\"Mean abstract length - characters: \", mean_abstract_c)\n",
    "print(\"Mean abstract length - words: \", mean_abstract_w)"
   ]
  },
  {
   "cell_type": "code",
   "execution_count": 16,
   "id": "caa2a0ed-d172-4317-b6e9-6c7fa14338b6",
   "metadata": {},
   "outputs": [
    {
     "data": {
      "text/plain": [
       "<AxesSubplot:>"
      ]
     },
     "execution_count": 16,
     "metadata": {},
     "output_type": "execute_result"
    },
    {
     "data": {
      "image/png": "[encoded data removed]",
      "text/plain": [
       "<Figure size 432x288 with 1 Axes>"
      ]
     },
     "metadata": {
      "needs_background": "light"
     },
     "output_type": "display_data"
    }
   ],
   "source": [
    "count.hist()"
   ]
  },
  {
   "cell_type": "code",
   "execution_count": 17,
   "id": "9921295e-a306-4add-a101-196ebdea3c12",
   "metadata": {},
   "outputs": [
    {
     "data": {
      "text/plain": [
       "<AxesSubplot:>"
      ]
     },
     "execution_count": 17,
     "metadata": {},
     "output_type": "execute_result"
    },
    {
     "data": {
      "image/png": "[encoded data removed]",
      "text/plain": [
       "<Figure size 432x288 with 1 Axes>"
      ]
     },
     "metadata": {
      "needs_background": "light"
     },
     "output_type": "display_data"
    }
   ],
   "source": [
    "# character counts\n",
    "test_len = df['abstract'].apply(len)\n",
    "test_len.sort_values(ascending=True)\n",
    "test_len.hist()"
   ]
  },
  {
   "cell_type": "code",
   "execution_count": 19,
   "id": "561b1e62-b93c-4d63-8f80-12f2c302d554",
   "metadata": {},
   "outputs": [],
   "source": [
    "\n",
    "\n",
    "# #showing the list of shortest abstract\n",
    "# print(df['abstract'][512595]) # maybe not the best articles but does contain plant-based foods # shortest ones \n",
    "# print(df['abstract'][22205]) # cochrane review - relevant for vegan diet and CVD precention \n",
    "# print(df['abstract'][10481]) # diet issues for veg inpatients may have \n",
    "# print(df['abstract'][321426]) # plant-based mentioned once but related to vaccine production.\n",
    "# print(df['abstract'][13154]) # plant based diet impacts on CAD "
   ]
  },
  {
   "cell_type": "code",
   "execution_count": 20,
   "id": "816e4698-84d9-4794-b025-b313e671b9fd",
   "metadata": {},
   "outputs": [
    {
     "name": "stdout",
     "output_type": "stream",
     "text": [
      "<class 'pandas.core.frame.DataFrame'>\n",
      "Int64Index: 72 entries, 75 to 22896\n",
      "Data columns (total 3 columns):\n",
      " #   Column    Non-Null Count  Dtype \n",
      "---  ------    --------------  ----- \n",
      " 0   pmc       72 non-null     object\n",
      " 1   title     72 non-null     object\n",
      " 2   abstract  72 non-null     object\n",
      "dtypes: object(3)\n",
      "memory usage: 2.2+ KB\n"
     ]
    }
   ],
   "source": [
    " #extracting only those ab has more than 400 words\n",
    "more_400_keywords = df[df['abstract'].apply(lambda x: len(x.split()) > 400)]\n",
    "more_400_keywords.info() # 80 entries so we will keep it all "
   ]
  },
  {
   "cell_type": "code",
   "execution_count": 21,
   "id": "ebd9fe1c-4abf-4d8e-9d62-9057868ece2d",
   "metadata": {},
   "outputs": [
    {
     "name": "stdout",
     "output_type": "stream",
     "text": [
      "<class 'pandas.core.frame.DataFrame'>\n",
      "Int64Index: 71 entries, 183 to 22642\n",
      "Data columns (total 3 columns):\n",
      " #   Column    Non-Null Count  Dtype \n",
      "---  ------    --------------  ----- \n",
      " 0   pmc       71 non-null     object\n",
      " 1   title     71 non-null     object\n",
      " 2   abstract  71 non-null     object\n",
      "dtypes: object(3)\n",
      "memory usage: 2.2+ KB\n"
     ]
    }
   ],
   "source": [
    "#extracting only those ab has less than 100 \n",
    "less_100_keywords = df[df['abstract'].apply(lambda x: len(x.split()) < 100)]\n",
    "less_100_keywords.info() # 87 entries so we will keep it all "
   ]
  },
  {
   "cell_type": "markdown",
   "id": "16e0b9f2-6cfa-4b02-9fc7-f22f8de9c642",
   "metadata": {},
   "source": [
    "After reviewing the abstracts, the decision is made to include those abstracts that includes 27-792 words (512595)."
   ]
  },
  {
   "cell_type": "code",
   "execution_count": 22,
   "id": "3bd444a8-bb02-43ec-86b0-43340ea4d6a7",
   "metadata": {},
   "outputs": [],
   "source": [
    "pd.set_option('display.max_colwidth', None)"
   ]
  },
  {
   "cell_type": "code",
   "execution_count": 23,
   "id": "9d211335-0f1e-4d6a-9b60-255b8e2a0e57",
   "metadata": {},
   "outputs": [],
   "source": [
    "alphanumeric_remove = lambda x: re.sub('\\w*\\d\\w*', ' ', x) #remove numbers\n",
    "punctuation_remove = lambda x: re.sub('[%s]' % re.escape(string.punctuation), ' ', x) #remove punctuation\n",
    "\n",
    "df['abstract_clean'] = df['abstract'].map(alphanumeric_remove).map(punctuation_remove)"
   ]
  },
  {
   "cell_type": "code",
   "execution_count": 30,
   "id": "77879229-976f-4671-b50e-9b58827f1258",
   "metadata": {},
   "outputs": [],
   "source": [
    "# function to preprocess abstract cleaning\n",
    "\n",
    "def clean(text):\n",
    "\n",
    "    #removing punc\n",
    "#     text = re.sub('\\W+',' ', str(text))\n",
    "#     text = re.sub('[^A-Za-z0-9]+', ' ', str(text))\n",
    "#     text = re.sub('[%s]', ' ', str(text)) # % re.escape(string.punctuation), ' ', str(text)) # new one that was not rerun\n",
    "     text = re.sub('[%s]'% re.escape(string.punctuation), ' ', str(text)) \n",
    "# #    text = re.escape((text.punctuation), ' ', str(text)) \n",
    "\n",
    "\n",
    "    # removing numbers\n",
    "    text = re.sub('\\w*\\d\\w*',r' ',str(text))\n",
    "    #text = text.replace('\\w*\\d\\w*',' ')#,str(text))\n",
    "    \n",
    "    # removing new line characters\n",
    "    #text = re.sub('\\n ','',str(text))\n",
    "    #text = re.sub('\\n',' ',str(text))\n",
    "    # removing apostrophes\n",
    "#     text = re.sub(\"\\'s \",' ',str(text))\n",
    "\n",
    "        # removing hyphens\n",
    "    text = re.sub('-',' ',str(text))\n",
    "    text = re.sub('- ',' ',str(text))\n",
    "    text = re.sub(' – ',' ',str(text))  \n",
    "    text = text.replace('—',' ')\n",
    "    \n",
    "    # removing quotation marks\n",
    "    text = re.sub('\\”',' ',str(text))\n",
    "    # removing quotation marks\n",
    "    text = re.sub('\\“',' ',str(text))\n",
    "    # removing less or equal to marks\n",
    "    text = re.sub('\\≤',' ',str(text))\n",
    "    text = re.sub('\\≥',' ',str(text))\n",
    "    text = re.sub('\\±',' ',str(text))  \n",
    "    text = re.sub('\\×',' ',str(text))\n",
    "    text = re.sub('\\∼',' ',str(text))\n",
    "    text = re.sub('\\%',' ',str(text))\n",
    "    text = text.replace('%',' ')\n",
    "    text = text.replace('=',' ')\n",
    "    text = text.replace('+',' ')\n",
    " \n",
    "    \n",
    "    # removing brackets marks\n",
    "    text = re.sub('\\[',' ',str(text))\n",
    "    text = re.sub('\\]',' ',str(text))\n",
    "        # removing parenthesis marks\n",
    "    text = re.sub('\\(',' ',str(text))\n",
    "    text = re.sub('\\)',' ',str(text))\n",
    "    # removing quotation marks\n",
    "    text = re.sub('\\“',' ',str(text))\n",
    "    # removing less or equal to marks\n",
    "    text = re.sub('\\≤',' ',str(text)) \n",
    "    \n",
    "\n",
    "    # removing dot marks\n",
    "    text = re.sub('\\·',' ',str(text)) \n",
    "#     # removing salutations\n",
    "#     text = re.sub(\"Mr\\.\",'Mr',str(text))\n",
    "#     text = re.sub(\"Mrs\\.\",'Mrs',str(text))\n",
    "    # removing any reference to outside text\n",
    "    text = re.sub(\"[\\(\\[].*?[\\)\\]]\", ' ', str(text))\n",
    "    #remove numbers\n",
    "    text = re.sub(r'\\d+', r' ', str(text))\n",
    "    text = re.sub(r'[0-9]+', r' ', str(text)) \n",
    "    #duplicates space\n",
    "#     text = re.sub(r\"\\s+\", r' ', str(text))  \n",
    "#     text = re.sub(r\"^\\s+|\\s+$\", r' ', str(text))  \n",
    "    \n",
    "\n",
    "\n",
    "    return text\n",
    "# # preprocessing abstracts\n",
    "# df['abstract'] = df['abstract'].apply(clean)\n",
    "# df['abstract'] = df['abstract'].astype(str).str.lower()"
   ]
  },
  {
   "cell_type": "code",
   "execution_count": 266,
   "id": "54d8d05e-7b6e-47e5-b3eb-07e7d533439c",
   "metadata": {
    "tags": []
   },
   "outputs": [],
   "source": [
    "# df.drop(['abstract_clean'], axis=1, inplace=True)"
   ]
  },
  {
   "cell_type": "code",
   "execution_count": null,
   "id": "d8a54a34-d9b9-4a17-916e-5559e1536e1c",
   "metadata": {},
   "outputs": [],
   "source": []
  },
  {
   "cell_type": "code",
   "execution_count": 31,
   "id": "4d1adabe-ad77-40f6-a86c-07b6fc902903",
   "metadata": {},
   "outputs": [],
   "source": [
    "df['abstract_clean'] = df['abstract_clean'].apply(clean)\n",
    "df['abstract_clean'] = df['abstract_clean'].astype(str).str.lower()"
   ]
  },
  {
   "cell_type": "code",
   "execution_count": 32,
   "id": "51fc7660-7f4a-4aea-a72e-c2a5b4b6e4f1",
   "metadata": {
    "tags": []
   },
   "outputs": [
    {
     "data": {
      "text/html": [
       "<div>\n",
       "<style scoped>\n",
       "    .dataframe tbody tr th:only-of-type {\n",
       "        vertical-align: middle;\n",
       "    }\n",
       "\n",
       "    .dataframe tbody tr th {\n",
       "        vertical-align: top;\n",
       "    }\n",
       "\n",
       "    .dataframe thead th {\n",
       "        text-align: right;\n",
       "    }\n",
       "</style>\n",
       "<table border=\"1\" class=\"dataframe\">\n",
       "  <thead>\n",
       "    <tr style=\"text-align: right;\">\n",
       "      <th></th>\n",
       "      <th>pmc</th>\n",
       "      <th>title</th>\n",
       "      <th>abstract</th>\n",
       "      <th>abstract_clean</th>\n",
       "    </tr>\n",
       "  </thead>\n",
       "  <tbody>\n",
       "    <tr>\n",
       "      <th>18982</th>\n",
       "      <td>PMC7222840</td>\n",
       "      <td>Effects of Dietary β-Mannanase Supplementation on Growth Performance, Apparent Total Tract Digestibility, Intestinal Integrity, and Immune Responses in Weaning Pigs.</td>\n",
       "      <td>Simple Summary: Many plant-based feedstuffs contain non-digestible factors, such as β-mannans, that may reduce growth performance, as well as energy and nutrient digestibility. However, weaning pigs lack enzymes—such as β-mannanase—necessary to more completely digest β-mannan. Therefore, this experiment aimed to investigate the effects of dietary β-mannanase supplementation on growth performance, apparent total tract digestibility of nutrients, intestinal integrity and the immunological and oxidative stress parameters of weaning pigs. Our result suggested that adding β-mannanase to the weaning pigs’ diet increased the apparent total tract digestibility (ATTD) of ether extract, jejunum villus height, and villus height-to-crypt depth ratio, and lowered crypt depth compared with those fed the no-β-mannanase diet. This study indicated that the inclusion of β-mannanase showed the potential to improve fat digestibility, intestinal development and gut health of weaning pigs. Abstract: The experiment aimed to investigate the effects of dietary β-mannanase supplementation on growth performance, apparent total tract digestibility (ATTD) of nutrients, intestinal integrity, and the immunological and oxidative stress parameters in weaning pigs. A total of 64 newly weaning pigs (initial body weight: 6.96 ± 0.70 kg) were allotted to two dietary treatments in eight replicates per treatment with four pigs per pen based on body weight and sex. Dietary treatments were 1.) CON (control: corn-soybean meal based basal diet) and 2.) β-mannanase (basal diet +0.06% β-mannanase). The β-mannanase supplementation did not affect growth performance, concentrations of acute phase protein, superoxide dismutase and glutathione peroxidase. However, the pigs fed the β-mannanase-supplemented diet had greater ATTD of ether extract, jejunum villus height, and villus height-to-crypt depth ratio, and lower crypt depth compared with those fed the CON diet (p &lt; 0.05). The pigs fed the β-mannanase-supplemented diet tended to have the lower count of E. coli in cecum than those fed the CON diet (p = 0.08). In conclusion, dietary β-mannanase supplementation did not affect growth performance, immune response and oxidative stress of weaning pigs, whereas it increased fat digestibility and had positive effects on intestinal integrity and cecum microflora by reducing the count of E.coli.</td>\n",
       "      <td>simple summary  many plant based feedstuffs contain non digestible factors  such as β mannans  that may reduce growth performance  as well as energy and nutrient digestibility  however  weaning pigs lack enzymes such as β mannanase necessary to more completely digest β mannan  therefore  this experiment aimed to investigate the effects of dietary β mannanase supplementation on growth performance  apparent total tract digestibility of nutrients  intestinal integrity and the immunological and oxidative stress parameters of weaning pigs  our result suggested that adding β mannanase to the weaning pigs’ diet increased the apparent total tract digestibility  attd  of ether extract  jejunum villus height  and villus height to crypt depth ratio  and lowered crypt depth compared with those fed the no β mannanase diet  this study indicated that the inclusion of β mannanase showed the potential to improve fat digestibility  intestinal development and gut health of weaning pigs  abstract  the experiment aimed to investigate the effects of dietary β mannanase supplementation on growth performance  apparent total tract digestibility  attd  of nutrients  intestinal integrity  and the immunological and oxidative stress parameters in weaning pigs  a total of   newly weaning pigs  initial body weight            kg  were allotted to two dietary treatments in eight replicates per treatment with four pigs per pen based on body weight and sex  dietary treatments were     con  control  corn soybean meal based basal diet  and     β mannanase  basal diet       β mannanase   the β mannanase supplementation did not affect growth performance  concentrations of acute phase protein  superoxide dismutase and glutathione peroxidase  however  the pigs fed the β mannanase supplemented diet had greater attd of ether extract  jejunum villus height  and villus height to crypt depth ratio  and lower crypt depth compared with those fed the con diet  p         the pigs fed the β mannanase supplemented diet tended to have the lower count of e  coli in cecum than those fed the con diet  p         in conclusion  dietary β mannanase supplementation did not affect growth performance  immune response and oxidative stress of weaning pigs  whereas it increased fat digestibility and had positive effects on intestinal integrity and cecum microflora by reducing the count of e coli</td>\n",
       "    </tr>\n",
       "    <tr>\n",
       "      <th>57</th>\n",
       "      <td>PMC8199727</td>\n",
       "      <td>Nutritional, Cardiovascular Health and Lifestyle Status of ‘Health Conscious’ Adult Vegans and Non-Vegans from Slovenia: A Cross-Sectional Self-Reported Survey.</td>\n",
       "      <td>The study aim was to investigate differences in nutritional, cardiovascular and lifestyle status of ‘health conscious’ subjects. In a partial ‘lock-down’ during the COVID-19 pandemic period, we performed a web-based, cross-sectional study. We compared 80 self-selected subjects (51 vegans, 67% females, and 29 non-vegans, 55% females, p = 0.344). Nutritional status was assessed by bio-electrical impedance and standardized food frequency questionnaires (i.e., contribution of nutrients from foods and supplementation, combined and separate). Serum lipid concentrations and blood pressure (BP) were assessed from annual or initial examination reports, while sociodemographic, economic, and lifestyle statuses were obtained by standardized questionnaires. Finally, a multivariate linear regression model was used to estimate the relationship between total fiber and saturated fatty acid (SFA) intake and low-density lipoprotein cholesterol (LDL cholesterol) values. The vegans had a significantly lower body mass index (22.8 ± 2.4 vs. 26.6 ± 3.6 kg/m2, p &lt; 0.001) and body fat % (19.3 ± 7.3 vs. 25.8 ± 8.2%, p &lt; 0.001) than the non-vegans. There were significant differences between vegans and non-vegans in energy intake, and most macronutrient (10/12) and micronutrient (15/23) intakes in units/day. Both diets were well designed, with high fiber and low SFA and free sugar intake but remained insufficient in n-3 long chain polyunsaturated fatty acids (for vegans), vitamin D, calcium, sodium (for vegans) and iodine. Vegans also had a significantly lower lipid profile and BP than non-vegans, except for high-density lipoprotein cholesterol. However, both groups met targeted recommendations. Furthermore, fiber and SFA intake and age explained 47% of the variance in LDL cholesterol. In conclusion, ‘health conscious’ vegans and non-vegans with comparable lifestyle statuses had significant differences in dietary intake, body composition and cardiovascular health status.</td>\n",
       "      <td>the study aim was to investigate differences in nutritional  cardiovascular and lifestyle status of ‘health conscious’ subjects  in a partial ‘lock down’ during the covid   pandemic period  we performed a web based  cross sectional study  we compared   self selected subjects    vegans     females  and   non vegans     females  p         nutritional status was assessed by bio electrical impedance and standardized food frequency questionnaires  i e   contribution of nutrients from foods and supplementation  combined and separate   serum lipid concentrations and blood pressure  bp  were assessed from annual or initial examination reports  while sociodemographic  economic  and lifestyle statuses were obtained by standardized questionnaires  finally  a multivariate linear regression model was used to estimate the relationship between total fiber and saturated fatty acid  sfa  intake and low density lipoprotein cholesterol  ldl cholesterol  values  the vegans had a significantly lower body mass index            vs            kg    p        and body fat              vs              p        than the non vegans  there were significant differences between vegans and non vegans in energy intake  and most macronutrient       and micronutrient       intakes in units day  both diets were well designed  with high fiber and low sfa and free sugar intake but remained insufficient in n   long chain polyunsaturated fatty acids  for vegans   vitamin d  calcium  sodium  for vegans  and iodine  vegans also had a significantly lower lipid profile and bp than non vegans  except for high density lipoprotein cholesterol  however  both groups met targeted recommendations  furthermore  fiber and sfa intake and age explained    of the variance in ldl cholesterol  in conclusion  ‘health conscious’ vegans and non vegans with comparable lifestyle statuses had significant differences in dietary intake  body composition and cardiovascular health status</td>\n",
       "    </tr>\n",
       "    <tr>\n",
       "      <th>966</th>\n",
       "      <td>PMC8581186</td>\n",
       "      <td>The global and regional costs of healthy and sustainable dietary patterns: a modelling study.</td>\n",
       "      <td>Background: Adoption of healthy and sustainable diets could be essential for safe-guarding the Earth's natural resources and reducing diet-related mortality, but their adoption could be hampered if such diets proved to be more expensive and unaffordable for some populations. Therefore, we aimed to estimate the costs of healthy and sustainable diets around the world. Methods: In this modelling study, we used regionally comparable food prices from the International Comparison Program for 150 countries. We paired those prices with estimates of food demand for different dietary patterns that, in modelling studies, have been associated with reductions in premature mortality and environmental resource demand, including nutritionally balanced flexitarian, pescatarian, vegetarian, and vegan diets. We used estimates of food waste and projections of food demand and prices to specify food system and socioeconomic change scenarios up to 2050. In the full cost accounting, we estimated diet-related health-care costs by pairing a comparative risk assessment of dietary risks with cost-of-illness estimates, and we estimated climate change costs by pairing the diet scenarios with greenhouse gas emission footprints and estimates of the social cost of carbon. Findings: Compared with the cost of current diets, the healthy and sustainable dietary patterns were, depending on the pattern, up to 22–34% lower in cost in upper-middle-income to high-income countries on average (when considering statistical means), but at least 18–29% more expensive in lower-middle-income to low-income countries. Reductions in food waste, a favourable socioeconomic development scenario, and a fuller cost accounting that included the diet-related costs of climate change and health care in the cost of diets increased the affordability of the dietary patterns in our future projections. When these measures were combined, the healthy and sustainable dietary patterns were up to 25–29% lower in cost in low-income to lower-middle-income countries, and up to 37% lower in cost on average, for the year 2050. Variants of vegetarian and vegan dietary patterns were generally most affordable, and pescatarian diets were least affordable. Interpretation: In high-income and upper-middle-income countries, dietary change interventions that incentivise adoption of healthy and sustainable diets can help consumers in those countries reduce costs while, at the same time, contribute to fulfilling national climate change commitments and reduce public health spending. In low-income and lower-middle-income countries, healthy and sustainable diets are substantially less costly than western diets and can also be cost-competitive in the medium-to-long term, subject to beneficial socioeconomic development and reductions in food waste. A fuller accounting of the costs of diets would make healthy and sustainable diets the least costly option in most countries in the future. Funding: Global Panel on Agriculture and Food Systems for Nutrition and Wellcome Trust.</td>\n",
       "      <td>background  adoption of healthy and sustainable diets could be essential for safe guarding the earth s natural resources and reducing diet related mortality  but their adoption could be hampered if such diets proved to be more expensive and unaffordable for some populations  therefore  we aimed to estimate the costs of healthy and sustainable diets around the world  methods  in this modelling study  we used regionally comparable food prices from the international comparison program for   countries  we paired those prices with estimates of food demand for different dietary patterns that  in modelling studies  have been associated with reductions in premature mortality and environmental resource demand  including nutritionally balanced flexitarian  pescatarian  vegetarian  and vegan diets  we used estimates of food waste and projections of food demand and prices to specify food system and socioeconomic change scenarios up to    in the full cost accounting  we estimated diet related health care costs by pairing a comparative risk assessment of dietary risks with cost of illness estimates  and we estimated climate change costs by pairing the diet scenarios with greenhouse gas emission footprints and estimates of the social cost of carbon  findings  compared with the cost of current diets  the healthy and sustainable dietary patterns were  depending on the pattern  up to    lower in cost in upper middle income to high income countries on average  when considering statistical means   but at least    more expensive in lower middle income to low income countries  reductions in food waste  a favourable socioeconomic development scenario  and a fuller cost accounting that included the diet related costs of climate change and health care in the cost of diets increased the affordability of the dietary patterns in our future projections  when these measures were combined  the healthy and sustainable dietary patterns were up to    lower in cost in low income to lower middle income countries  and up to    lower in cost on average  for the year    variants of vegetarian and vegan dietary patterns were generally most affordable  and pescatarian diets were least affordable  interpretation  in high income and upper middle income countries  dietary change interventions that incentivise adoption of healthy and sustainable diets can help consumers in those countries reduce costs while  at the same time  contribute to fulfilling national climate change commitments and reduce public health spending  in low income and lower middle income countries  healthy and sustainable diets are substantially less costly than western diets and can also be cost competitive in the medium to long term  subject to beneficial socioeconomic development and reductions in food waste  a fuller accounting of the costs of diets would make healthy and sustainable diets the least costly option in most countries in the future  funding  global panel on agriculture and food systems for nutrition and wellcome trust</td>\n",
       "    </tr>\n",
       "    <tr>\n",
       "      <th>136</th>\n",
       "      <td>PMC8838497</td>\n",
       "      <td>Cross-Sectional Study of the Prevalence of Cobalamin Deficiency and Vitamin B12 Supplementation Habits among Vegetarian and Vegan Children in the Czech Republic.</td>\n",
       "      <td>Vegetarian (VG) and vegan (VN) diets in childhood are of growing interest due to their perceived health and environmental benefits. Concerns remain due to the possible disruption of healthy growth and development of children because of the scarcity of evidence-based studies. Among the nutrients of special concern is vitamin B12. Therefore, the Czech Vegan Children Study (CAROTS) decided to examine the relationship between B12 metabolism parameters and B12 intake through diet and supplementation. We analyzed laboratory parameters within n = 79 VG, n = 69 VN, and n = 52 omnivores (OM) children (0–18 years old). There were no significant differences in levels of holotranscobalamin (aB12), folate, homocysteine (hcys), or mean corpuscular volume. However, there was a significant difference in levels of cyanocobalamin (B12) (p = 0.018), even though we identified only n = 1 VG and n = 2 VN children as B12 deficient. On the other hand, we identified n = 35 VG, n = 28 VN, and n = 9 OM children with vitamin B12 hypervitaminosis (p = 0.004). This finding was related to a high prevalence of over-supplementation in the group (mean dose for VG 178.19 ± 238.5 µg per day; VN 278.35 ± 394.63 µg per day). Additionally, we found a significant (p &lt; 0.05) difference between B12, aB12, and hcys levels of supplemented vs. non-supplemented VG/VN children. This can show that the intake of vitamin B12 via diet in the VG group might not be sufficient. Secondly, we analyzed a relation between supplement use in pregnancy and breastfeeding and its impact on vitamin B12 levels of children aged 0–3 years. Out of n = 46 mothers, only n = 3 (e.g., 6.5%) were not supplemented at all. We have not identified any clinical manifestation of B12 deficiency and only n = 1 child with low serum cobalamin, a child who did not receive vitamin B12 supplementation and whose mother took only low doses of vitamin B12 (25/µg/day).To conclude, we did not observe any life-threatening or severe consequences of laboratory-stated vitamin B12 deficiency; thus, our group was well supplemented. On the other hand, we have identified many subjects with vitamin B12 hypervitaminosis of unknown impact on their health. Further research and new guidelines for B12 supplementation among VG and VN children are needed.</td>\n",
       "      <td>vegetarian  vg  and vegan  vn  diets in childhood are of growing interest due to their perceived health and environmental benefits  concerns remain due to the possible disruption of healthy growth and development of children because of the scarcity of evidence based studies  among the nutrients of special concern is vitamin    therefore  the czech vegan children study  carots  decided to examine the relationship between   metabolism parameters and   intake through diet and supplementation  we analyzed laboratory parameters within n     vg  n     vn  and n     omnivores  om  children    years old   there were no significant differences in levels of holotranscobalamin      folate  homocysteine  hcys   or mean corpuscular volume  however  there was a significant difference in levels of cyanocobalamin      p         even though we identified only n     vg and n     vn children as   deficient  on the other hand  we identified n     vg  n     vn  and n     om children with vitamin   hypervitaminosis  p         this finding was related to a high prevalence of over supplementation in the group  mean dose for vg           µg per day  vn           µg per day   additionally  we found a significant  p        difference between       and hcys levels of supplemented vs  non supplemented vg vn children  this can show that the intake of vitamin   via diet in the vg group might not be sufficient  secondly  we analyzed a relation between supplement use in pregnancy and breastfeeding and its impact on vitamin   levels of children aged   years  out of n     mothers  only n      e g         were not supplemented at all  we have not identified any clinical manifestation of   deficiency and only n     child with low serum cobalamin  a child who did not receive vitamin   supplementation and whose mother took only low doses of vitamin      µg day  to conclude  we did not observe any life threatening or severe consequences of laboratory stated vitamin   deficiency  thus  our group was well supplemented  on the other hand  we have identified many subjects with vitamin   hypervitaminosis of unknown impact on their health  further research and new guidelines for   supplementation among vg and vn children are needed</td>\n",
       "    </tr>\n",
       "    <tr>\n",
       "      <th>10019</th>\n",
       "      <td>PMC6619435</td>\n",
       "      <td>Assessing the Efficacy and Mechanisms of Pycnogenol® on Cognitive Aging From In Vitro Animal and Human Studies.</td>\n",
       "      <td>Brain aging is a complex and multifactorial process broadly involving changes in the brain’s structure, neuronal activity, and biochemical profile. These changes in brain function have also been linked to age-associated variations in cognitive function. Recent research has suggested a role of increased oxidative stress and reduced cognition in older people. Therefore, studies that examine the effects of antioxidants on cognitive performance are important, particularly in the context of an increase in elderly populations in most Western countries. One such antioxidant, Pycnogenol, is a standardized plant-based extract obtained from the bark of the French maritime pine and has a long historical use to treat inflammation and improve health. More recently, Pycnogenol has been subjected to more than 100 research trials. In vitro and animal studies using the standardized extract have indicated a multimodal action of Pycnogenol, and several human studies have shown improvements in cognitive function after chronic administration. In this paper, we review these studies in the context of understanding both biological and cognitive changes due to Pycnogenol and evaluate possibilities of Pycnogenol to improve neurocognitive function.</td>\n",
       "      <td>brain aging is a complex and multifactorial process broadly involving changes in the brain’s structure  neuronal activity  and biochemical profile  these changes in brain function have also been linked to age associated variations in cognitive function  recent research has suggested a role of increased oxidative stress and reduced cognition in older people  therefore  studies that examine the effects of antioxidants on cognitive performance are important  particularly in the context of an increase in elderly populations in most western countries  one such antioxidant  pycnogenol  is a standardized plant based extract obtained from the bark of the french maritime pine and has a long historical use to treat inflammation and improve health  more recently  pycnogenol has been subjected to more than   research trials  in vitro and animal studies using the standardized extract have indicated a multimodal action of pycnogenol  and several human studies have shown improvements in cognitive function after chronic administration  in this paper  we review these studies in the context of understanding both biological and cognitive changes due to pycnogenol and evaluate possibilities of pycnogenol to improve neurocognitive function</td>\n",
       "    </tr>\n",
       "  </tbody>\n",
       "</table>\n",
       "</div>"
      ],
      "text/plain": [
       "               pmc  \\\n",
       "18982   PMC7222840   \n",
       "57      PMC8199727   \n",
       "966     PMC8581186   \n",
       "136     PMC8838497   \n",
       "10019   PMC6619435   \n",
       "\n",
       "                                                                                                                                                                        title  \\\n",
       "18982   Effects of Dietary β-Mannanase Supplementation on Growth Performance, Apparent Total Tract Digestibility, Intestinal Integrity, and Immune Responses in Weaning Pigs.   \n",
       "57           Nutritional, Cardiovascular Health and Lifestyle Status of ‘Health Conscious’ Adult Vegans and Non-Vegans from Slovenia: A Cross-Sectional Self-Reported Survey.   \n",
       "966                                                                             The global and regional costs of healthy and sustainable dietary patterns: a modelling study.   \n",
       "136         Cross-Sectional Study of the Prevalence of Cobalamin Deficiency and Vitamin B12 Supplementation Habits among Vegetarian and Vegan Children in the Czech Republic.   \n",
       "10019                                                         Assessing the Efficacy and Mechanisms of Pycnogenol® on Cognitive Aging From In Vitro Animal and Human Studies.   \n",
       "\n",
       "                                                                                                                                                                                                                                                                                                                                                                                                                                                                                                                                                                                                                                                                                                                                                                                                                                                                                                                                                                                                                                                                                                                                                                                                                                                                                                                                                                                                                                                                                                                                                                                                                                                                                                                                                                                                                                                                                                                                                                                                                                                                                                                                                                                                                                                                                                                                                                                                                                                                                                                                                                                                                                                                                                                                                                                                                                                                                                                                                                                                                                                                                                                                                            abstract  \\\n",
       "18982                                                                                                                                                                                                                                                                                                                                                                                                                                                                                                                                                                                                                                                                                   Simple Summary: Many plant-based feedstuffs contain non-digestible factors, such as β-mannans, that may reduce growth performance, as well as energy and nutrient digestibility. However, weaning pigs lack enzymes—such as β-mannanase—necessary to more completely digest β-mannan. Therefore, this experiment aimed to investigate the effects of dietary β-mannanase supplementation on growth performance, apparent total tract digestibility of nutrients, intestinal integrity and the immunological and oxidative stress parameters of weaning pigs. Our result suggested that adding β-mannanase to the weaning pigs’ diet increased the apparent total tract digestibility (ATTD) of ether extract, jejunum villus height, and villus height-to-crypt depth ratio, and lowered crypt depth compared with those fed the no-β-mannanase diet. This study indicated that the inclusion of β-mannanase showed the potential to improve fat digestibility, intestinal development and gut health of weaning pigs. Abstract: The experiment aimed to investigate the effects of dietary β-mannanase supplementation on growth performance, apparent total tract digestibility (ATTD) of nutrients, intestinal integrity, and the immunological and oxidative stress parameters in weaning pigs. A total of 64 newly weaning pigs (initial body weight: 6.96 ± 0.70 kg) were allotted to two dietary treatments in eight replicates per treatment with four pigs per pen based on body weight and sex. Dietary treatments were 1.) CON (control: corn-soybean meal based basal diet) and 2.) β-mannanase (basal diet +0.06% β-mannanase). The β-mannanase supplementation did not affect growth performance, concentrations of acute phase protein, superoxide dismutase and glutathione peroxidase. However, the pigs fed the β-mannanase-supplemented diet had greater ATTD of ether extract, jejunum villus height, and villus height-to-crypt depth ratio, and lower crypt depth compared with those fed the CON diet (p < 0.05). The pigs fed the β-mannanase-supplemented diet tended to have the lower count of E. coli in cecum than those fed the CON diet (p = 0.08). In conclusion, dietary β-mannanase supplementation did not affect growth performance, immune response and oxidative stress of weaning pigs, whereas it increased fat digestibility and had positive effects on intestinal integrity and cecum microflora by reducing the count of E.coli.   \n",
       "57                                                                                                                                                                                                                                                                                                                                                                                                                                                                                                                                                                                                                                                                                                                                                                                                                                                                                                                                                                                                                                                                                                          The study aim was to investigate differences in nutritional, cardiovascular and lifestyle status of ‘health conscious’ subjects. In a partial ‘lock-down’ during the COVID-19 pandemic period, we performed a web-based, cross-sectional study. We compared 80 self-selected subjects (51 vegans, 67% females, and 29 non-vegans, 55% females, p = 0.344). Nutritional status was assessed by bio-electrical impedance and standardized food frequency questionnaires (i.e., contribution of nutrients from foods and supplementation, combined and separate). Serum lipid concentrations and blood pressure (BP) were assessed from annual or initial examination reports, while sociodemographic, economic, and lifestyle statuses were obtained by standardized questionnaires. Finally, a multivariate linear regression model was used to estimate the relationship between total fiber and saturated fatty acid (SFA) intake and low-density lipoprotein cholesterol (LDL cholesterol) values. The vegans had a significantly lower body mass index (22.8 ± 2.4 vs. 26.6 ± 3.6 kg/m2, p < 0.001) and body fat % (19.3 ± 7.3 vs. 25.8 ± 8.2%, p < 0.001) than the non-vegans. There were significant differences between vegans and non-vegans in energy intake, and most macronutrient (10/12) and micronutrient (15/23) intakes in units/day. Both diets were well designed, with high fiber and low SFA and free sugar intake but remained insufficient in n-3 long chain polyunsaturated fatty acids (for vegans), vitamin D, calcium, sodium (for vegans) and iodine. Vegans also had a significantly lower lipid profile and BP than non-vegans, except for high-density lipoprotein cholesterol. However, both groups met targeted recommendations. Furthermore, fiber and SFA intake and age explained 47% of the variance in LDL cholesterol. In conclusion, ‘health conscious’ vegans and non-vegans with comparable lifestyle statuses had significant differences in dietary intake, body composition and cardiovascular health status.   \n",
       "966     Background: Adoption of healthy and sustainable diets could be essential for safe-guarding the Earth's natural resources and reducing diet-related mortality, but their adoption could be hampered if such diets proved to be more expensive and unaffordable for some populations. Therefore, we aimed to estimate the costs of healthy and sustainable diets around the world. Methods: In this modelling study, we used regionally comparable food prices from the International Comparison Program for 150 countries. We paired those prices with estimates of food demand for different dietary patterns that, in modelling studies, have been associated with reductions in premature mortality and environmental resource demand, including nutritionally balanced flexitarian, pescatarian, vegetarian, and vegan diets. We used estimates of food waste and projections of food demand and prices to specify food system and socioeconomic change scenarios up to 2050. In the full cost accounting, we estimated diet-related health-care costs by pairing a comparative risk assessment of dietary risks with cost-of-illness estimates, and we estimated climate change costs by pairing the diet scenarios with greenhouse gas emission footprints and estimates of the social cost of carbon. Findings: Compared with the cost of current diets, the healthy and sustainable dietary patterns were, depending on the pattern, up to 22–34% lower in cost in upper-middle-income to high-income countries on average (when considering statistical means), but at least 18–29% more expensive in lower-middle-income to low-income countries. Reductions in food waste, a favourable socioeconomic development scenario, and a fuller cost accounting that included the diet-related costs of climate change and health care in the cost of diets increased the affordability of the dietary patterns in our future projections. When these measures were combined, the healthy and sustainable dietary patterns were up to 25–29% lower in cost in low-income to lower-middle-income countries, and up to 37% lower in cost on average, for the year 2050. Variants of vegetarian and vegan dietary patterns were generally most affordable, and pescatarian diets were least affordable. Interpretation: In high-income and upper-middle-income countries, dietary change interventions that incentivise adoption of healthy and sustainable diets can help consumers in those countries reduce costs while, at the same time, contribute to fulfilling national climate change commitments and reduce public health spending. In low-income and lower-middle-income countries, healthy and sustainable diets are substantially less costly than western diets and can also be cost-competitive in the medium-to-long term, subject to beneficial socioeconomic development and reductions in food waste. A fuller accounting of the costs of diets would make healthy and sustainable diets the least costly option in most countries in the future. Funding: Global Panel on Agriculture and Food Systems for Nutrition and Wellcome Trust.   \n",
       "136                                                                                                                                                                                                                                                                                                                                                                                                                                                                                                                                                                                                                                                                                                                                                                               Vegetarian (VG) and vegan (VN) diets in childhood are of growing interest due to their perceived health and environmental benefits. Concerns remain due to the possible disruption of healthy growth and development of children because of the scarcity of evidence-based studies. Among the nutrients of special concern is vitamin B12. Therefore, the Czech Vegan Children Study (CAROTS) decided to examine the relationship between B12 metabolism parameters and B12 intake through diet and supplementation. We analyzed laboratory parameters within n = 79 VG, n = 69 VN, and n = 52 omnivores (OM) children (0–18 years old). There were no significant differences in levels of holotranscobalamin (aB12), folate, homocysteine (hcys), or mean corpuscular volume. However, there was a significant difference in levels of cyanocobalamin (B12) (p = 0.018), even though we identified only n = 1 VG and n = 2 VN children as B12 deficient. On the other hand, we identified n = 35 VG, n = 28 VN, and n = 9 OM children with vitamin B12 hypervitaminosis (p = 0.004). This finding was related to a high prevalence of over-supplementation in the group (mean dose for VG 178.19 ± 238.5 µg per day; VN 278.35 ± 394.63 µg per day). Additionally, we found a significant (p < 0.05) difference between B12, aB12, and hcys levels of supplemented vs. non-supplemented VG/VN children. This can show that the intake of vitamin B12 via diet in the VG group might not be sufficient. Secondly, we analyzed a relation between supplement use in pregnancy and breastfeeding and its impact on vitamin B12 levels of children aged 0–3 years. Out of n = 46 mothers, only n = 3 (e.g., 6.5%) were not supplemented at all. We have not identified any clinical manifestation of B12 deficiency and only n = 1 child with low serum cobalamin, a child who did not receive vitamin B12 supplementation and whose mother took only low doses of vitamin B12 (25/µg/day).To conclude, we did not observe any life-threatening or severe consequences of laboratory-stated vitamin B12 deficiency; thus, our group was well supplemented. On the other hand, we have identified many subjects with vitamin B12 hypervitaminosis of unknown impact on their health. Further research and new guidelines for B12 supplementation among VG and VN children are needed.   \n",
       "10019                                                                                                                                                                                                                                                                                                                                                                                                                                                                                                                                                                                                                                                                                                                                                                                                                                                                                                                                                                                                                                                                                                                                                                                                                                                                                                                                                                                                                                                                                                                                                                                                                                                                                                                                                                                                                                                                      Brain aging is a complex and multifactorial process broadly involving changes in the brain’s structure, neuronal activity, and biochemical profile. These changes in brain function have also been linked to age-associated variations in cognitive function. Recent research has suggested a role of increased oxidative stress and reduced cognition in older people. Therefore, studies that examine the effects of antioxidants on cognitive performance are important, particularly in the context of an increase in elderly populations in most Western countries. One such antioxidant, Pycnogenol, is a standardized plant-based extract obtained from the bark of the French maritime pine and has a long historical use to treat inflammation and improve health. More recently, Pycnogenol has been subjected to more than 100 research trials. In vitro and animal studies using the standardized extract have indicated a multimodal action of Pycnogenol, and several human studies have shown improvements in cognitive function after chronic administration. In this paper, we review these studies in the context of understanding both biological and cognitive changes due to Pycnogenol and evaluate possibilities of Pycnogenol to improve neurocognitive function.   \n",
       "\n",
       "                                                                                                                                                                                                                                                                                                                                                                                                                                                                                                                                                                                                                                                                                                                                                                                                                                                                                                                                                                                                                                                                                                                                                                                                                                                                                                                                                                                                                                                                                                                                                                                                                                                                                                                                                                                                                                                                                                                                                                                                                                                                                                                                                                                                                                                                                                                                                                                                                                                                                                                                                                                                                                                                                                                                                                                                                                                                                                                                                                                                                                                                                                                                 abstract_clean  \n",
       "18982                                                                                                                                                                                                                                                                                                                                                                                                                                                                                                                                                                                                                                                                    simple summary  many plant based feedstuffs contain non digestible factors  such as β mannans  that may reduce growth performance  as well as energy and nutrient digestibility  however  weaning pigs lack enzymes such as β mannanase necessary to more completely digest β mannan  therefore  this experiment aimed to investigate the effects of dietary β mannanase supplementation on growth performance  apparent total tract digestibility of nutrients  intestinal integrity and the immunological and oxidative stress parameters of weaning pigs  our result suggested that adding β mannanase to the weaning pigs’ diet increased the apparent total tract digestibility  attd  of ether extract  jejunum villus height  and villus height to crypt depth ratio  and lowered crypt depth compared with those fed the no β mannanase diet  this study indicated that the inclusion of β mannanase showed the potential to improve fat digestibility  intestinal development and gut health of weaning pigs  abstract  the experiment aimed to investigate the effects of dietary β mannanase supplementation on growth performance  apparent total tract digestibility  attd  of nutrients  intestinal integrity  and the immunological and oxidative stress parameters in weaning pigs  a total of   newly weaning pigs  initial body weight            kg  were allotted to two dietary treatments in eight replicates per treatment with four pigs per pen based on body weight and sex  dietary treatments were     con  control  corn soybean meal based basal diet  and     β mannanase  basal diet       β mannanase   the β mannanase supplementation did not affect growth performance  concentrations of acute phase protein  superoxide dismutase and glutathione peroxidase  however  the pigs fed the β mannanase supplemented diet had greater attd of ether extract  jejunum villus height  and villus height to crypt depth ratio  and lower crypt depth compared with those fed the con diet  p         the pigs fed the β mannanase supplemented diet tended to have the lower count of e  coli in cecum than those fed the con diet  p         in conclusion  dietary β mannanase supplementation did not affect growth performance  immune response and oxidative stress of weaning pigs  whereas it increased fat digestibility and had positive effects on intestinal integrity and cecum microflora by reducing the count of e coli   \n",
       "57                                                                                                                                                                                                                                                                                                                                                                                                                                                                                                                                                                                                                                                                                                                                                                                                                                                                                                                                                                                                                                                                                                           the study aim was to investigate differences in nutritional  cardiovascular and lifestyle status of ‘health conscious’ subjects  in a partial ‘lock down’ during the covid   pandemic period  we performed a web based  cross sectional study  we compared   self selected subjects    vegans     females  and   non vegans     females  p         nutritional status was assessed by bio electrical impedance and standardized food frequency questionnaires  i e   contribution of nutrients from foods and supplementation  combined and separate   serum lipid concentrations and blood pressure  bp  were assessed from annual or initial examination reports  while sociodemographic  economic  and lifestyle statuses were obtained by standardized questionnaires  finally  a multivariate linear regression model was used to estimate the relationship between total fiber and saturated fatty acid  sfa  intake and low density lipoprotein cholesterol  ldl cholesterol  values  the vegans had a significantly lower body mass index            vs            kg    p        and body fat              vs              p        than the non vegans  there were significant differences between vegans and non vegans in energy intake  and most macronutrient       and micronutrient       intakes in units day  both diets were well designed  with high fiber and low sfa and free sugar intake but remained insufficient in n   long chain polyunsaturated fatty acids  for vegans   vitamin d  calcium  sodium  for vegans  and iodine  vegans also had a significantly lower lipid profile and bp than non vegans  except for high density lipoprotein cholesterol  however  both groups met targeted recommendations  furthermore  fiber and sfa intake and age explained    of the variance in ldl cholesterol  in conclusion  ‘health conscious’ vegans and non vegans with comparable lifestyle statuses had significant differences in dietary intake  body composition and cardiovascular health status   \n",
       "966     background  adoption of healthy and sustainable diets could be essential for safe guarding the earth s natural resources and reducing diet related mortality  but their adoption could be hampered if such diets proved to be more expensive and unaffordable for some populations  therefore  we aimed to estimate the costs of healthy and sustainable diets around the world  methods  in this modelling study  we used regionally comparable food prices from the international comparison program for   countries  we paired those prices with estimates of food demand for different dietary patterns that  in modelling studies  have been associated with reductions in premature mortality and environmental resource demand  including nutritionally balanced flexitarian  pescatarian  vegetarian  and vegan diets  we used estimates of food waste and projections of food demand and prices to specify food system and socioeconomic change scenarios up to    in the full cost accounting  we estimated diet related health care costs by pairing a comparative risk assessment of dietary risks with cost of illness estimates  and we estimated climate change costs by pairing the diet scenarios with greenhouse gas emission footprints and estimates of the social cost of carbon  findings  compared with the cost of current diets  the healthy and sustainable dietary patterns were  depending on the pattern  up to    lower in cost in upper middle income to high income countries on average  when considering statistical means   but at least    more expensive in lower middle income to low income countries  reductions in food waste  a favourable socioeconomic development scenario  and a fuller cost accounting that included the diet related costs of climate change and health care in the cost of diets increased the affordability of the dietary patterns in our future projections  when these measures were combined  the healthy and sustainable dietary patterns were up to    lower in cost in low income to lower middle income countries  and up to    lower in cost on average  for the year    variants of vegetarian and vegan dietary patterns were generally most affordable  and pescatarian diets were least affordable  interpretation  in high income and upper middle income countries  dietary change interventions that incentivise adoption of healthy and sustainable diets can help consumers in those countries reduce costs while  at the same time  contribute to fulfilling national climate change commitments and reduce public health spending  in low income and lower middle income countries  healthy and sustainable diets are substantially less costly than western diets and can also be cost competitive in the medium to long term  subject to beneficial socioeconomic development and reductions in food waste  a fuller accounting of the costs of diets would make healthy and sustainable diets the least costly option in most countries in the future  funding  global panel on agriculture and food systems for nutrition and wellcome trust   \n",
       "136                                                                                                                                                                                                                                                                                                                                                                                                                                                                                                                                                                                                                                                                                                                                                                                                                          vegetarian  vg  and vegan  vn  diets in childhood are of growing interest due to their perceived health and environmental benefits  concerns remain due to the possible disruption of healthy growth and development of children because of the scarcity of evidence based studies  among the nutrients of special concern is vitamin    therefore  the czech vegan children study  carots  decided to examine the relationship between   metabolism parameters and   intake through diet and supplementation  we analyzed laboratory parameters within n     vg  n     vn  and n     omnivores  om  children    years old   there were no significant differences in levels of holotranscobalamin      folate  homocysteine  hcys   or mean corpuscular volume  however  there was a significant difference in levels of cyanocobalamin      p         even though we identified only n     vg and n     vn children as   deficient  on the other hand  we identified n     vg  n     vn  and n     om children with vitamin   hypervitaminosis  p         this finding was related to a high prevalence of over supplementation in the group  mean dose for vg           µg per day  vn           µg per day   additionally  we found a significant  p        difference between       and hcys levels of supplemented vs  non supplemented vg vn children  this can show that the intake of vitamin   via diet in the vg group might not be sufficient  secondly  we analyzed a relation between supplement use in pregnancy and breastfeeding and its impact on vitamin   levels of children aged   years  out of n     mothers  only n      e g         were not supplemented at all  we have not identified any clinical manifestation of   deficiency and only n     child with low serum cobalamin  a child who did not receive vitamin   supplementation and whose mother took only low doses of vitamin      µg day  to conclude  we did not observe any life threatening or severe consequences of laboratory stated vitamin   deficiency  thus  our group was well supplemented  on the other hand  we have identified many subjects with vitamin   hypervitaminosis of unknown impact on their health  further research and new guidelines for   supplementation among vg and vn children are needed   \n",
       "10019                                                                                                                                                                                                                                                                                                                                                                                                                                                                                                                                                                                                                                                                                                                                                                                                                                                                                                                                                                                                                                                                                                                                                                                                                                                                                                                                                                                                                                                                                                                                                                                                                                                                                                                                                                                                                                                   brain aging is a complex and multifactorial process broadly involving changes in the brain’s structure  neuronal activity  and biochemical profile  these changes in brain function have also been linked to age associated variations in cognitive function  recent research has suggested a role of increased oxidative stress and reduced cognition in older people  therefore  studies that examine the effects of antioxidants on cognitive performance are important  particularly in the context of an increase in elderly populations in most western countries  one such antioxidant  pycnogenol  is a standardized plant based extract obtained from the bark of the french maritime pine and has a long historical use to treat inflammation and improve health  more recently  pycnogenol has been subjected to more than   research trials  in vitro and animal studies using the standardized extract have indicated a multimodal action of pycnogenol  and several human studies have shown improvements in cognitive function after chronic administration  in this paper  we review these studies in the context of understanding both biological and cognitive changes due to pycnogenol and evaluate possibilities of pycnogenol to improve neurocognitive function   "
      ]
     },
     "execution_count": 32,
     "metadata": {},
     "output_type": "execute_result"
    }
   ],
   "source": [
    "df.sample(5)"
   ]
  },
  {
   "cell_type": "code",
   "execution_count": 245,
   "id": "ea9ca99f-91e7-4afa-a728-f99059f10c20",
   "metadata": {},
   "outputs": [],
   "source": []
  },
  {
   "cell_type": "code",
   "execution_count": null,
   "id": "9a3c0d8a-0447-4900-a3d4-3969099a936a",
   "metadata": {},
   "outputs": [],
   "source": [
    "df.loc[136,'abstract_clean']"
   ]
  },
  {
   "cell_type": "code",
   "execution_count": null,
   "id": "93fc52c9-1b43-48e4-8c53-c3c1b7433aa2",
   "metadata": {},
   "outputs": [],
   "source": [
    "df.loc[136,'abstract_clean']# 136 1541 check those two "
   ]
  },
  {
   "cell_type": "code",
   "execution_count": 273,
   "id": "ed470ad3-8e2c-4e36-b47c-fd04611f9e2d",
   "metadata": {},
   "outputs": [
    {
     "data": {
      "text/plain": [
       "Index(['pmc', 'title', 'abstract', 'abstract_clean'], dtype='object')"
      ]
     },
     "execution_count": 273,
     "metadata": {},
     "output_type": "execute_result"
    }
   ],
   "source": [
    "df.columns"
   ]
  },
  {
   "cell_type": "code",
   "execution_count": 21,
   "id": "86cee5b4-e7d6-4986-ae9f-c35800fded06",
   "metadata": {},
   "outputs": [],
   "source": [
    "# stoo words\n",
    "# acron CVD \n",
    "# basic rules - domain knowledge  to remove ci p \n",
    "# high context... helpful... unhelpful...."
   ]
  },
  {
   "cell_type": "markdown",
   "id": "1f81b0c4-93ae-4393-bb42-dd067aac2546",
   "metadata": {},
   "source": [
    "stop_words = ['' , '', '', ]\n",
    "\n",
    "#create your custom stop words list\n",
    "my_stop_words = ['her','me','i','she','it']\n",
    "words = [word for word in text.split() if word.lower() not in my_stop_words]\n",
    "new_text = \" \".join(words)\n",
    "print(new_text)\n",
    "print(\"Old length: \", len(text))\n",
    "print(\"New length: \", len(new_text))\n",
    "\n",
    "\n",
    "#extend stop words\n",
    "sw_nltk.extend(['first', 'second', 'third', 'me'])\n",
    "print(len(sw_nltk))\n"
   ]
  },
  {
   "cell_type": "markdown",
   "id": "ec266fc1-07f4-4d63-95c9-9fccd299c255",
   "metadata": {
    "tags": []
   },
   "source": [
    "import gensim\n",
    "from gensim.parsing.preprocessing import remove_stopwords, STOPWORDS"
   ]
  },
  {
   "cell_type": "code",
   "execution_count": 33,
   "id": "6785ab13-877e-44e3-873d-b1450b044222",
   "metadata": {
    "tags": []
   },
   "outputs": [],
   "source": [
    "df2=df.copy()"
   ]
  },
  {
   "cell_type": "code",
   "execution_count": 34,
   "id": "e693bbef-73a3-48cf-a5eb-b92c88dafa76",
   "metadata": {},
   "outputs": [
    {
     "name": "stdout",
     "output_type": "stream",
     "text": [
      "<class 'pandas.core.frame.DataFrame'>\n",
      "Int64Index: 3684 entries, 0 to 56020\n",
      "Data columns (total 4 columns):\n",
      " #   Column          Non-Null Count  Dtype \n",
      "---  ------          --------------  ----- \n",
      " 0   pmc             3684 non-null   object\n",
      " 1   title           3684 non-null   object\n",
      " 2   abstract        3684 non-null   object\n",
      " 3   abstract_clean  3684 non-null   object\n",
      "dtypes: object(4)\n",
      "memory usage: 272.9+ KB\n"
     ]
    }
   ],
   "source": [
    "df2.info()"
   ]
  },
  {
   "cell_type": "code",
   "execution_count": 221,
   "id": "522ee905-9b12-4ee5-b7f6-255008c911b5",
   "metadata": {},
   "outputs": [
    {
     "data": {
      "text/plain": [
       "' liquiritigenin is a chiral flavonoid present in plant based food  nutraceuticals  and traditional medicines  it is also an important ingredient present in licorice  the purpose of this study is to explore the pharmacological activity of racemic liquiritigenin utilizing several in vitro assays with relevant roles in colon cancer and diabetes  where possible  the pure enantiomers were tested to identify the stereospecific contribution to the activity  in vitro antioxidant  anticancer  anti inflammatory activities  cyclooxygenase inhibition   antidiabetic activities  alpha amylase and alpha glucosidase inhibition  as well as cytochrome       inhibitory activities were assessed  racemic liquiritigenin demonstrated a dose dependent inhibition of alpha amylase enzyme whereas its pure enantiomers did not  racemic liquiritigenin showed moderate antiproliferative activity on a ht    human colorectal adenocarcinoma  cancer cell line that was dose dependent and potent inhibitory effects on the cyclooxygenase   enzyme  the flavonoid did not inhibit the activity of cytochrome   over the concentration range studied but was a potent antioxidant  the current study demonstrated the importance of understanding the stereospecific pharmacological effects of liquiritigenin enantiomers in alpha amylase inhibition '"
      ]
     },
     "execution_count": 221,
     "metadata": {},
     "output_type": "execute_result"
    }
   ],
   "source": [
    "df['abstract_clean'][11702]"
   ]
  },
  {
   "cell_type": "code",
   "execution_count": null,
   "id": "a830fc3f-9372-4299-b679-5db66eaab84d",
   "metadata": {},
   "outputs": [],
   "source": []
  },
  {
   "cell_type": "code",
   "execution_count": null,
   "id": "8fb27ec3-7224-4554-9478-eaee77eb9731",
   "metadata": {},
   "outputs": [],
   "source": []
  },
  {
   "cell_type": "code",
   "execution_count": null,
   "id": "44f621d0-498c-4232-ae80-aecc70d6c9ee",
   "metadata": {},
   "outputs": [],
   "source": []
  },
  {
   "cell_type": "code",
   "execution_count": null,
   "id": "c863fad8-b794-4faa-aa44-889e9c76ded2",
   "metadata": {},
   "outputs": [],
   "source": []
  },
  {
   "cell_type": "code",
   "execution_count": null,
   "id": "fba6433d-4f2b-4cc3-a126-d954467e8bce",
   "metadata": {},
   "outputs": [],
   "source": []
  },
  {
   "cell_type": "code",
   "execution_count": null,
   "id": "82a723ae-56d4-4202-8d0b-476a918fead8",
   "metadata": {},
   "outputs": [],
   "source": []
  },
  {
   "cell_type": "code",
   "execution_count": null,
   "id": "77070c95-9b55-4ec1-bcea-5497e39d52ed",
   "metadata": {},
   "outputs": [],
   "source": []
  },
  {
   "cell_type": "code",
   "execution_count": 249,
   "id": "b2a581cf-ec5a-44ed-bdfa-f0dc482f2551",
   "metadata": {},
   "outputs": [],
   "source": []
  },
  {
   "cell_type": "code",
   "execution_count": 242,
   "id": "cb8ee99c-40e0-451f-9847-01ac63c909bb",
   "metadata": {},
   "outputs": [],
   "source": [
    "# df2.sample(2)"
   ]
  },
  {
   "cell_type": "code",
   "execution_count": 250,
   "id": "f1ad2275-7f22-4117-839f-95ef1b709688",
   "metadata": {},
   "outputs": [
    {
     "data": {
      "text/plain": [
       "' high oil prices global warming accompany use fossil fuels incentive alternative forms energy supply  photosynthetic biofuel production represents  uses renewable resources  sunlight conversion water   biomass  strategies parallel  plant based production sugar fermentation ethanol biodiesel production transesterification    exacerbate problems  including regional nutrient balancing world food supply  suffer modest efficiency photosynthesis  maximizing efficiency natural engineered photosynthesis utmost importance  algal photosynthesis choice particularly energy applications  complete conversion   biomass necessary  innovative methods synthetic biology allow combine photosynthetic fermentative metabolism called photanol approach form biofuel directly calvin cycle intermediates use naturally transformable cyanobacterium synechocystis sp  pcc    providing transport energy chemical feedstocks  photosynthesis continue food feed applications  application  arguments efficiency important size world population continues increase  photosynthetic cells food applications innovative forms  e g   substitute fish proteins diet supplied carnivorous fish perhaps—after acid hydrolysis—as complex  animal free serum growth mammalian cells vitro '"
      ]
     },
     "execution_count": 250,
     "metadata": {},
     "output_type": "execute_result"
    }
   ],
   "source": [
    "df.loc[5298,'abstract_clean']"
   ]
  },
  {
   "cell_type": "code",
   "execution_count": 35,
   "id": "81f0bd05-23ec-40fc-9640-8dd5bfa6d36a",
   "metadata": {},
   "outputs": [
    {
     "name": "stdout",
     "output_type": "stream",
     "text": [
      "11702     32\n",
      "5298      36\n",
      "150       42\n",
      "923       44\n",
      "17642     46\n",
      "        ... \n",
      "1137     597\n",
      "884      598\n",
      "7158     608\n",
      "22710    633\n",
      "6370     801\n",
      "Name: abstract_clean, Length: 3684, dtype: int64\n"
     ]
    },
    {
     "data": {
      "text/plain": [
       "<AxesSubplot:>"
      ]
     },
     "execution_count": 35,
     "metadata": {},
     "output_type": "execute_result"
    },
    {
     "data": {
      "image/png": "[encoded data removed]",
      "text/plain": [
       "<Figure size 432x288 with 1 Axes>"
      ]
     },
     "metadata": {
      "needs_background": "light"
     },
     "output_type": "display_data"
    }
   ],
   "source": [
    "count2 = df2['abstract_clean'].str.split().str.len()\n",
    "count2.index = count.index.astype(str)\n",
    "#count.sort_index(inplace = True)\n",
    "count2.sort_values(ascending = True,inplace = True)\n",
    "print(count2)\n",
    "count2.hist()# 27 and 792 and now it is 16 and 469(265 after stop words removed)  ## updated corpus resulted the same 16 and 465"
   ]
  },
  {
   "cell_type": "markdown",
   "id": "720a103b-c8cb-415c-a54c-a06d0d76f09f",
   "metadata": {},
   "source": [
    "stopwords = ENGLISH_STOP_WORDS.union(['ect', 'hou', 'com', 'recipient'])\n",
    "vec = TfidfVectorizer(analyzer='word', stop_words=stopwords, max_df=0.3, min_df=2)\n",
    "vec_train = vec.fit_transform(df2.body)"
   ]
  },
  {
   "cell_type": "markdown",
   "id": "a1e8f8fb-5699-471f-ab12-175f8be12531",
   "metadata": {},
   "source": [
    "Included gensim stopwords\n",
    "'should', 'mine', 'yourselves', 'whatever', 'alone', 'km', 'nevertheless', 'thru', 'whence', 'whenever', 'nobody', 'who', 'so', 'put', 'amount', 'since', 'say', 'become', 'thereafter', 'there', 'though', 'yet', 'nothing', 'over', 'about', 'no', 'they', 'regarding', 'that', 'all', 'might', 'towards', 'were', 'what', 'yourself', 'indeed', 'him', 'five', 'latter', 'moreover', 'least', 'whereupon', 'empty', 'twenty', 'being', 'its', 'within', 'across', 'and', 'cry', 'until', 'eleven', 'below', 'see', 'less', 'without', 'latterly', 'former', 'beyond', 'formerly', 'each', 'by', 'very', 'give', 'once', 'under', 'side', 'seemed', 'thence', 'beforehand', 'nine', 'could', 'amongst', 'find', 'computer', 'up', 'this', 'off', 'via', 'beside', 'using', 'ltd', 'are', 'therein', 'fifty', 'even', 'only', 'thereby', 'then', 'more', 'co', 'cannot', 'would', 'much', 'perhaps', 'us', 'anything', 'at', 'everyone', 're', 'down', 'whereby', 'not', 'go', 'am', 'afterwards', 'does', 'did', 'elsewhere', 'our', 'make', 'eight', 'to', 'last', 'too', 'his', 'became', 'i', 'such', 'other', 'in', 'due', 'back', 'either', 'everything', 'why', 'call', 'becoming', 'around', 'another', 'four', 'been', 'yours', 'sometime', 'please', 'into', 'hence', 'besides', 'ten', 'ourselves', 'mill', 'fill', 'just', 'against', 'had', 'full', 'have', 'here', 'with', 'above', 'although', 'show', 'herself', 'whereafter', 'me', 'don', 'well', 'always', 'the', 'but', 'of', 'every', 'get', 'same', 'be', 'becomes', 'thick', 'still', 'these', 'on', 'myself', 'anywhere', 'detail', 'someone', 'thin', 'kg', 'between', 'before', 'top', 'among', 'something', 'during', 'while', 'thereupon', 'for', 'has', 'bill', 'interest', 'move', 'fire', 'anyhow', 'your', 'own', 'twelve', 'con', 'wherein', 'except', 'through', 'seeming', 'etc', 'third', 'themselves', 'nowhere', 'again', 'whereas', 'many', 'their', 'ever', 'thus', 'name', 'hereby', 'from', 'couldnt', 'along', 'six', 'than', 'doing', 'whose', 'herein', 'hereupon', 'didn', 'doesn', 'sometimes', 'whoever', 'keep', 'used', 'enough', 'upon', 'if', 'together', 'made', 'out', 'mostly', 'one', 'where', 'onto', 'eg', 'really', 'she', 'itself', 'must', 'inc', 'as', 'anyway', 'bottom', 'he', 'namely', 'front', 'de', 'ours', 'whither', 'hundred', 'everywhere', 'those', 'un', 'my', 'few', 'may', 'quite', 'often', 'wherever', 'meanwhile', 'when', 'himself', 'will', 'somehow', 'can', 'noone', 'now', 'cant', 'fifteen', 'various', 'serious', 'amoungst', 'seems', 'whom', 'some', 'unless', 'whether', 'anyone', 'done', 'both', 'them', 'we', 'which', 'none', 'hers', 'almost', 'whole', 'do', 'was', 'several', 'however', 'otherwise', 'nor', 'a', 'first', 'behind', 'most', 'forty', 'found', 'seem', 'else', 'part', 'toward', 'take', 'it', 'sincere', 'also', 'two', 'never', 'already', 'others', 'somewhere', 'next', 'her', 'rather', 'after', 'sixty', 'because', 'or', 'hereafter', 'is', 'an', 'hasnt', 'describe', 'per', 'any', 'throughout', 'you', 'ie', 'three', 'therefore', 'how', 'system', 'further', 'neither'"
   ]
  },
  {
   "cell_type": "markdown",
   "id": "499ac9fd-8e4a-4c02-a4c6-34623b35d03d",
   "metadata": {},
   "source": [
    "## gensim stopwords\n",
    "import gensim\n",
    "from gensim.parsing.preprocessing import remove_stopwords, STOPWORDS\n",
    "print(STOPWORDS)\n",
    "\n",
    "new_text = remove_stopwords(text)\n",
    "print(new_text)\n",
    "print(\"Old length: \", len(text))\n",
    "print(\"New length: \", len(new_text))"
   ]
  },
  {
   "cell_type": "markdown",
   "id": "0b2c9afd-1c6f-4b30-959d-17233c2541d5",
   "metadata": {},
   "source": [
    "#check what are the stop words by default\n",
    "sw_nltk = stopwords.words('english')\n",
    "print(sw_nltk)"
   ]
  },
  {
   "cell_type": "code",
   "execution_count": 36,
   "id": "15d19886-97d1-4890-951e-81633ff81359",
   "metadata": {},
   "outputs": [
    {
     "data": {
      "text/html": [
       "<div>\n",
       "<style scoped>\n",
       "    .dataframe tbody tr th:only-of-type {\n",
       "        vertical-align: middle;\n",
       "    }\n",
       "\n",
       "    .dataframe tbody tr th {\n",
       "        vertical-align: top;\n",
       "    }\n",
       "\n",
       "    .dataframe thead th {\n",
       "        text-align: right;\n",
       "    }\n",
       "</style>\n",
       "<table border=\"1\" class=\"dataframe\">\n",
       "  <thead>\n",
       "    <tr style=\"text-align: right;\">\n",
       "      <th></th>\n",
       "      <th>pmc</th>\n",
       "      <th>title</th>\n",
       "      <th>abstract</th>\n",
       "      <th>abstract_clean</th>\n",
       "    </tr>\n",
       "  </thead>\n",
       "  <tbody>\n",
       "    <tr>\n",
       "      <th>2687</th>\n",
       "      <td>PMC8407220</td>\n",
       "      <td>Study protocol: long-term effect of the New Nordic Renal Diet on phosphorus and lipid homeostasis in patients with chronic kidney disease, stages 3 and 4: a randomised controlled trial.</td>\n",
       "      <td>Introduction: Chronic kidney disease (CKD) causes severe disturbances in phosphate metabolism. New Nordic Renal Diet (NNRD) is a new dietary concept designed by the present research group that aims to offer patients with moderate CKD a whole food approach with a markedly reduction in dietary phosphorus intake, corresponding to 850 mg/day. The present protocol describes a randomised controlled trial aiming to test the long-term effects of dietary intervention with NNRD versus a non-restricted habitual diet on important parameters of phosphorus and lipid homeostasis. Methods and analysis: This trial will be executed at the Department of Nephrology, Rigshospitalet, University of Copenhagen, Denmark. Sixty patients aged &gt;18 years with CKD stages 3 and 4 (estimated glomerular filtration rate between 15 and 45 mL/min) will be recruited and randomly assigned to the intervention or control group. The other inclusion criterion includes a medically stable condition for at least 2 months prior to the start of the study. Exclusion criteria are treatment with phosphate binders, metabolic disorders that require specific dietary regulation, pregnancy and breast feeding, any types of food allergies or those who are vegans. The observation period is 26 weeks including seven study visits at the outpatient clinic combined with a weekly telephone consultation in both groups. A follow-up visit 3 months after study completion finalises the intervention. The primary outcome is the difference in the change in 24-hour urine phosphorus excretion from baseline to week 26 between the two study groups. Secondary outcomes include changes in phosphate-related and lipid metabolism-related blood and urine biochemistry, blood pressure and body composition. Moreover, we wish to explore adherence to the diet as well as quality of life. Ethics and dissemination: The study has been approved by the Scientific Ethical Committee of the Capital Region of Denmark and the Danish Data Protection Agency. The results of the studies will be presented at national and international scientific meetings, and publications will be submitted to peer-reviewed journals. Trial registration number: ClinicalTrials.gov (wwwclinicaltrialsgov) Registry (NCT04579315). Protocol version: The protocol, version 2, has been approved by the Ethical Committee Denmark on 18 September 2020. The protocol has also been approved by Data Protection Regulation and Data Protection Law on 15 September 2020. This study protocol is in accordance with the Standard Protocol Items: Recommendations for International Trials.</td>\n",
       "      <td>introduction  chronic kidney disease  ckd  causes severe disturbances in phosphate metabolism  new nordic renal diet  nnrd  is a new dietary concept designed by the present research group that aims to offer patients with moderate ckd a whole food approach with a markedly reduction in dietary phosphorus intake  corresponding to   mg day  the present protocol describes a randomised controlled trial aiming to test the long term effects of dietary intervention with nnrd versus a non restricted habitual diet on important parameters of phosphorus and lipid homeostasis  methods and analysis  this trial will be executed at the department of nephrology  rigshospitalet  university of copenhagen  denmark  sixty patients aged    years with ckd stages   and    estimated glomerular filtration rate between   and   ml min  will be recruited and randomly assigned to the intervention or control group  the other inclusion criterion includes a medically stable condition for at least   months prior to the start of the study  exclusion criteria are treatment with phosphate binders  metabolic disorders that require specific dietary regulation  pregnancy and breast feeding  any types of food allergies or those who are vegans  the observation period is   weeks including seven study visits at the outpatient clinic combined with a weekly telephone consultation in both groups  a follow up visit   months after study completion finalises the intervention  the primary outcome is the difference in the change in   hour urine phosphorus excretion from baseline to week   between the two study groups  secondary outcomes include changes in phosphate related and lipid metabolism related blood and urine biochemistry  blood pressure and body composition  moreover  we wish to explore adherence to the diet as well as quality of life  ethics and dissemination  the study has been approved by the scientific ethical committee of the capital region of denmark and the danish data protection agency  the results of the studies will be presented at national and international scientific meetings  and publications will be submitted to peer reviewed journals  trial registration number  clinicaltrials gov  wwwclinicaltrialsgov  registry      protocol version  the protocol  version    has been approved by the ethical committee denmark on   september    the protocol has also been approved by data protection regulation and data protection law on   september    this study protocol is in accordance with the standard protocol items  recommendations for international trials</td>\n",
       "    </tr>\n",
       "    <tr>\n",
       "      <th>5184</th>\n",
       "      <td>PMC7539407</td>\n",
       "      <td>Animal based low carbohydrate diet is associated with increased risk of type 2 diabetes in Tehranian adults.</td>\n",
       "      <td>Background: To investigate the association of low carbohydrate diet (LCD) score with the risk of type 2 diabetes among adults. Methods: This cohort study was conducted on 4356 healthy participants aged ≥ 19 years old, who were followed-up for a mean duration of 3 years within the framework of the Tehran Lipid and Glucose Study. LCD score was calculated using a food frequency questionnaire according to intake of carbohydrate, protein, and fat at baseline. Diabetes was defined according to the criteria of the American Diabetes Association. Multivariable logistic regression models, adjusted for potential confounders, were used to estimate risk of diabetes across quartiles of LCD score. Results: Mean ± SD age of the study participants (44.4% men) was 40.5 ± 13.0 years. The median (25–75 interquartile range) of LCD score was 17.0 (12.0–21.0) and after a 3 year follow-up period, 123 (2.8%) incident cases of diabetes were ascertained. After adjustment for confounding variables, including age, sex, smoking status, physical activity, total calorie intake, saturated fatty acid, waist circumference, educational level, and family history of diabetes, the multivariable-adjusted ORs (95% CIs) of type 2 diabetes, comparing the highest with the lowest quartiles, were 2.16 (1.16–4.04) for total LCD score (P-value = 0.015), 1.81 (1.06–3.11) for animal-based LCD score (P-value = 0.029), and 1.47 (0.85–2.52) for plant-based LCD score (P-value = 0.160). Conclusion: Our findings suggest that a higher adherence to LCD, mostly with higher intakes of protein and fat from animal-source foods, can increase the incidence of diabetes; however, a plant-based low-carbohydrate dietary pattern is not significantly associated with risk of type 2 diabetes.</td>\n",
       "      <td>background  to investigate the association of low carbohydrate diet  lcd  score with the risk of type   diabetes among adults  methods  this cohort study was conducted on   healthy participants aged     years old  who were followed up for a mean duration of   years within the framework of the tehran lipid and glucose study  lcd score was calculated using a food frequency questionnaire according to intake of carbohydrate  protein  and fat at baseline  diabetes was defined according to the criteria of the american diabetes association  multivariable logistic regression models  adjusted for potential confounders  were used to estimate risk of diabetes across quartiles of lcd score  results  mean   sd age of the study participants       men  was           years  the median    interquartile range  of lcd score was             and after a   year follow up period           incident cases of diabetes were ascertained  after adjustment for confounding variables  including age  sex  smoking status  physical activity  total calorie intake  saturated fatty acid  waist circumference  educational level  and family history of diabetes  the multivariable adjusted ors     cis  of type   diabetes  comparing the highest with the lowest quartiles  were             for total lcd score  p value                     for animal based lcd score  p value         and             for plant based lcd score  p value         conclusion  our findings suggest that a higher adherence to lcd  mostly with higher intakes of protein and fat from animal source foods  can increase the incidence of diabetes  however  a plant based low carbohydrate dietary pattern is not significantly associated with risk of type   diabetes</td>\n",
       "    </tr>\n",
       "  </tbody>\n",
       "</table>\n",
       "</div>"
      ],
      "text/plain": [
       "              pmc  \\\n",
       "2687   PMC8407220   \n",
       "5184   PMC7539407   \n",
       "\n",
       "                                                                                                                                                                                           title  \\\n",
       "2687   Study protocol: long-term effect of the New Nordic Renal Diet on phosphorus and lipid homeostasis in patients with chronic kidney disease, stages 3 and 4: a randomised controlled trial.   \n",
       "5184                                                                                Animal based low carbohydrate diet is associated with increased risk of type 2 diabetes in Tehranian adults.   \n",
       "\n",
       "                                                                                                                                                                                                                                                                                                                                                                                                                                                                                                                                                                                                                                                                                                                                                                                                                                                                                                                                                                                                                                                                                                                                                                                                                                                                                                                                                                                                                                                                                                                                                                                                                                                                                                                                                                                                                                                                                                                                                                                                                                                                                                                                                                                                                                                                                                                                                                                                                                                                                                                                                                                                                                                                                        abstract  \\\n",
       "2687   Introduction: Chronic kidney disease (CKD) causes severe disturbances in phosphate metabolism. New Nordic Renal Diet (NNRD) is a new dietary concept designed by the present research group that aims to offer patients with moderate CKD a whole food approach with a markedly reduction in dietary phosphorus intake, corresponding to 850 mg/day. The present protocol describes a randomised controlled trial aiming to test the long-term effects of dietary intervention with NNRD versus a non-restricted habitual diet on important parameters of phosphorus and lipid homeostasis. Methods and analysis: This trial will be executed at the Department of Nephrology, Rigshospitalet, University of Copenhagen, Denmark. Sixty patients aged >18 years with CKD stages 3 and 4 (estimated glomerular filtration rate between 15 and 45 mL/min) will be recruited and randomly assigned to the intervention or control group. The other inclusion criterion includes a medically stable condition for at least 2 months prior to the start of the study. Exclusion criteria are treatment with phosphate binders, metabolic disorders that require specific dietary regulation, pregnancy and breast feeding, any types of food allergies or those who are vegans. The observation period is 26 weeks including seven study visits at the outpatient clinic combined with a weekly telephone consultation in both groups. A follow-up visit 3 months after study completion finalises the intervention. The primary outcome is the difference in the change in 24-hour urine phosphorus excretion from baseline to week 26 between the two study groups. Secondary outcomes include changes in phosphate-related and lipid metabolism-related blood and urine biochemistry, blood pressure and body composition. Moreover, we wish to explore adherence to the diet as well as quality of life. Ethics and dissemination: The study has been approved by the Scientific Ethical Committee of the Capital Region of Denmark and the Danish Data Protection Agency. The results of the studies will be presented at national and international scientific meetings, and publications will be submitted to peer-reviewed journals. Trial registration number: ClinicalTrials.gov (wwwclinicaltrialsgov) Registry (NCT04579315). Protocol version: The protocol, version 2, has been approved by the Ethical Committee Denmark on 18 September 2020. The protocol has also been approved by Data Protection Regulation and Data Protection Law on 15 September 2020. This study protocol is in accordance with the Standard Protocol Items: Recommendations for International Trials.   \n",
       "5184                                                                                                                                                                                                                                                                                                                                                                                                                                                                                                                                                                                                                                                                                                                                                                                                                                                                     Background: To investigate the association of low carbohydrate diet (LCD) score with the risk of type 2 diabetes among adults. Methods: This cohort study was conducted on 4356 healthy participants aged ≥ 19 years old, who were followed-up for a mean duration of 3 years within the framework of the Tehran Lipid and Glucose Study. LCD score was calculated using a food frequency questionnaire according to intake of carbohydrate, protein, and fat at baseline. Diabetes was defined according to the criteria of the American Diabetes Association. Multivariable logistic regression models, adjusted for potential confounders, were used to estimate risk of diabetes across quartiles of LCD score. Results: Mean ± SD age of the study participants (44.4% men) was 40.5 ± 13.0 years. The median (25–75 interquartile range) of LCD score was 17.0 (12.0–21.0) and after a 3 year follow-up period, 123 (2.8%) incident cases of diabetes were ascertained. After adjustment for confounding variables, including age, sex, smoking status, physical activity, total calorie intake, saturated fatty acid, waist circumference, educational level, and family history of diabetes, the multivariable-adjusted ORs (95% CIs) of type 2 diabetes, comparing the highest with the lowest quartiles, were 2.16 (1.16–4.04) for total LCD score (P-value = 0.015), 1.81 (1.06–3.11) for animal-based LCD score (P-value = 0.029), and 1.47 (0.85–2.52) for plant-based LCD score (P-value = 0.160). Conclusion: Our findings suggest that a higher adherence to LCD, mostly with higher intakes of protein and fat from animal-source foods, can increase the incidence of diabetes; however, a plant-based low-carbohydrate dietary pattern is not significantly associated with risk of type 2 diabetes.   \n",
       "\n",
       "                                                                                                                                                                                                                                                                                                                                                                                                                                                                                                                                                                                                                                                                                                                                                                                                                                                                                                                                                                                                                                                                                                                                                                                                                                                                                                                                                                                                                                                                                                                                                                                                                                                                                                                                                                                                                                                                                                                                                                                                                                                                                                                                                                                                                                                                                                                                                                                                                                                                                                                                                                                                                                                        abstract_clean  \n",
       "2687   introduction  chronic kidney disease  ckd  causes severe disturbances in phosphate metabolism  new nordic renal diet  nnrd  is a new dietary concept designed by the present research group that aims to offer patients with moderate ckd a whole food approach with a markedly reduction in dietary phosphorus intake  corresponding to   mg day  the present protocol describes a randomised controlled trial aiming to test the long term effects of dietary intervention with nnrd versus a non restricted habitual diet on important parameters of phosphorus and lipid homeostasis  methods and analysis  this trial will be executed at the department of nephrology  rigshospitalet  university of copenhagen  denmark  sixty patients aged    years with ckd stages   and    estimated glomerular filtration rate between   and   ml min  will be recruited and randomly assigned to the intervention or control group  the other inclusion criterion includes a medically stable condition for at least   months prior to the start of the study  exclusion criteria are treatment with phosphate binders  metabolic disorders that require specific dietary regulation  pregnancy and breast feeding  any types of food allergies or those who are vegans  the observation period is   weeks including seven study visits at the outpatient clinic combined with a weekly telephone consultation in both groups  a follow up visit   months after study completion finalises the intervention  the primary outcome is the difference in the change in   hour urine phosphorus excretion from baseline to week   between the two study groups  secondary outcomes include changes in phosphate related and lipid metabolism related blood and urine biochemistry  blood pressure and body composition  moreover  we wish to explore adherence to the diet as well as quality of life  ethics and dissemination  the study has been approved by the scientific ethical committee of the capital region of denmark and the danish data protection agency  the results of the studies will be presented at national and international scientific meetings  and publications will be submitted to peer reviewed journals  trial registration number  clinicaltrials gov  wwwclinicaltrialsgov  registry      protocol version  the protocol  version    has been approved by the ethical committee denmark on   september    the protocol has also been approved by data protection regulation and data protection law on   september    this study protocol is in accordance with the standard protocol items  recommendations for international trials   \n",
       "5184                                                                                                                                                                                                                                                                                                                                                                                                                                                                                                                                                                                                                                                                                                                                                                                                                                                                                   background  to investigate the association of low carbohydrate diet  lcd  score with the risk of type   diabetes among adults  methods  this cohort study was conducted on   healthy participants aged     years old  who were followed up for a mean duration of   years within the framework of the tehran lipid and glucose study  lcd score was calculated using a food frequency questionnaire according to intake of carbohydrate  protein  and fat at baseline  diabetes was defined according to the criteria of the american diabetes association  multivariable logistic regression models  adjusted for potential confounders  were used to estimate risk of diabetes across quartiles of lcd score  results  mean   sd age of the study participants       men  was           years  the median    interquartile range  of lcd score was             and after a   year follow up period           incident cases of diabetes were ascertained  after adjustment for confounding variables  including age  sex  smoking status  physical activity  total calorie intake  saturated fatty acid  waist circumference  educational level  and family history of diabetes  the multivariable adjusted ors     cis  of type   diabetes  comparing the highest with the lowest quartiles  were             for total lcd score  p value                     for animal based lcd score  p value         and             for plant based lcd score  p value         conclusion  our findings suggest that a higher adherence to lcd  mostly with higher intakes of protein and fat from animal source foods  can increase the incidence of diabetes  however  a plant based low carbohydrate dietary pattern is not significantly associated with risk of type   diabetes   "
      ]
     },
     "execution_count": 36,
     "metadata": {},
     "output_type": "execute_result"
    }
   ],
   "source": [
    "df2.sample(2)"
   ]
  },
  {
   "cell_type": "code",
   "execution_count": 48,
   "id": "676cd83c-b5e5-44b3-9c11-735d7b1cdf48",
   "metadata": {},
   "outputs": [],
   "source": [
    "#df['abstract'][81595] #remove rf, h p n p lf rf mm hg"
   ]
  },
  {
   "cell_type": "code",
   "execution_count": 38,
   "id": "74ca1f5b-cd9f-4253-8626-251fdc260a6b",
   "metadata": {},
   "outputs": [],
   "source": [
    "#df2.to_pickle(\"abstract_clean_stripped.pkl\")  \n",
    "#df = pd.read_pickle(\"abstract_clean_stripped.pkl\")    #maybe not to use this version"
   ]
  },
  {
   "cell_type": "code",
   "execution_count": 44,
   "id": "a5331d1f-168a-4ed2-8ff8-5a20d5198bd1",
   "metadata": {},
   "outputs": [],
   "source": [
    "df2['abstract_tokenized'] = df2['abstract_clean'].apply(word_tokenize)"
   ]
  },
  {
   "cell_type": "code",
   "execution_count": 278,
   "id": "83e4201d-9c9e-49b8-a2ea-ff222de9e6e1",
   "metadata": {},
   "outputs": [
    {
     "data": {
      "text/plain": [
       "Index(['pmc', 'title', 'abstract', 'abstract_clean'], dtype='object')"
      ]
     },
     "execution_count": 278,
     "metadata": {},
     "output_type": "execute_result"
    }
   ],
   "source": [
    "# df.drop([#'abstract_tokenized',\n",
    "#        'abstract_tagged'], axis=1, inplace=True)\n",
    "df.columns"
   ]
  },
  {
   "cell_type": "code",
   "execution_count": 257,
   "id": "ccaffc9a-e59a-411f-899e-852c5b02e81f",
   "metadata": {},
   "outputs": [
    {
     "data": {
      "text/plain": [
       "322"
      ]
     },
     "execution_count": 257,
     "metadata": {},
     "output_type": "execute_result"
    }
   ],
   "source": [
    "len(df['abstract_tokenized'][8])"
   ]
  },
  {
   "cell_type": "code",
   "execution_count": 58,
   "id": "e34b495f-4b85-49a9-abb7-b39981feef4e",
   "metadata": {},
   "outputs": [],
   "source": [
    "#df['abstract_tokenized'][8] # check on whether to remove the b in vitamin b"
   ]
  },
  {
   "cell_type": "code",
   "execution_count": 258,
   "id": "176b2117-9e0e-4f16-9252-dba09e0694a5",
   "metadata": {},
   "outputs": [
    {
     "data": {
      "text/plain": [
       "3684"
      ]
     },
     "execution_count": 258,
     "metadata": {},
     "output_type": "execute_result"
    }
   ],
   "source": [
    "len(df['abstract_tokenized'])"
   ]
  },
  {
   "cell_type": "markdown",
   "id": "c7578b59-9440-4a8b-8ed8-ebbefdc915d7",
   "metadata": {},
   "source": [
    "count3 = df['abstract_tokenized'].str.len()\n",
    "count3.index = count3.index.astype(str)\n",
    "#count.sort_index(inplace = True)\n",
    "count3.sort_values(ascending = True,inplace = True)\n",
    "print(count3)"
   ]
  },
  {
   "cell_type": "code",
   "execution_count": 282,
   "id": "6d75e429-e268-42bd-bce2-b8740342749b",
   "metadata": {},
   "outputs": [],
   "source": [
    "# df['abstract'][22205]#shortest\n",
    "#df['abstract'][64055] longest"
   ]
  },
  {
   "cell_type": "code",
   "execution_count": 43,
   "id": "64bfe517-7f75-495e-b446-d906ed3063cb",
   "metadata": {},
   "outputs": [
    {
     "data": {
      "text/plain": [
       "' the aim of the study was to investigate the prevalence of  and attitudes toward  vegetarianism and veganism  we also assessed the association between vegetarianism veganism and eating disorder  depressive  and somatic symptoms  a cross sectional questionnaire survey in adults in germany that was representative in terms of age  gender  and educational level was carried out  data from   adults       females  were included  mean age was      sd      years  a total of      of participants reported following a vegetarian or vegan diet  while the majority of participants agreed that vegetarian diets are healthy and harmless         only      believed this to be true of vegan diets  the majority of participants also believed that a vegetarian        or vegan        diet can lead to nutritional deficiency  female gender  younger age  higher education  lower body mass index  bmi   and higher depressive and eating disorder symptoms were found to be associated with vegetarianism veganism  we did not find increased physical complaints in the group of vegetarians vegans  our results point toward a moderate prevalence of vegetarianism veganism among the general population  our findings suggest that health care professionals should keep eating disorder pathology  affective status in mind when dealing with individuals who choose a vegetarian vegan dietary pattern '"
      ]
     },
     "execution_count": 43,
     "metadata": {},
     "output_type": "execute_result"
    }
   ],
   "source": [
    "df2['abstract_clean'][1]"
   ]
  },
  {
   "cell_type": "markdown",
   "id": "5fafbe62-0e5e-4493-bd9d-9cd4f66776b1",
   "metadata": {},
   "source": [
    "# tried to remove none english words but it removed some real terms in med/biology\n",
    "words = set(nltk.corpus.words.words())  #set of English words \n",
    "df2['abstract_tokenized']=df2['abstract_tokenized'].apply(lambda x: [item for item in x if item in words])"
   ]
  },
  {
   "cell_type": "markdown",
   "id": "2dfd455c-0ae0-4bf7-ba7c-10b51824b915",
   "metadata": {},
   "source": [
    "df2=df.copy()\n",
    "count4 = df2['abstract_tokenized'].str.len()\n",
    "count4.index = count4.index.astype(str)\n",
    "#count.sort_index(inplace = True)\n",
    "count4.sort_values(ascending = True,inplace = True)\n",
    "print(count4)  # count how many words were cut and identified those should not be removed"
   ]
  },
  {
   "cell_type": "markdown",
   "id": "dfe849a1-43a8-4b0a-8c2c-5ca6bedf90d0",
   "metadata": {},
   "source": [
    "### Apply part of speech tagger"
   ]
  },
  {
   "cell_type": "code",
   "execution_count": 45,
   "id": "fb313ff4-1fcc-43dc-af36-1460c46abc18",
   "metadata": {},
   "outputs": [],
   "source": [
    "#tagging words with parts of speech \n",
    "df2['abstract_tagged'] = pos_tag_sents(df2['abstract_tokenized'].tolist()) "
   ]
  },
  {
   "cell_type": "code",
   "execution_count": 91,
   "id": "057d4ed9-d2f0-45cc-8db1-f5ad94273a06",
   "metadata": {},
   "outputs": [
    {
     "data": {
      "text/plain": [
       "'VBN'"
      ]
     },
     "execution_count": 91,
     "metadata": {},
     "output_type": "execute_result"
    }
   ],
   "source": [
    "#df2['abstract_tagged'][8][1][1]"
   ]
  },
  {
   "cell_type": "markdown",
   "id": "7d8c7d52-c95c-49ba-b66c-037ef905758e",
   "metadata": {},
   "source": [
    " # check out this\n",
    "def findtags(tag_prefix, tagged_text):\n",
    "    cfd = nltk.ConditionalFreqDist((tag, word) for (word, tag) in tagged_text\n",
    "                                  if tag.startswith(tag_prefix))\n",
    "    return dict((tag, cfd[tag].most_common(5)) for tag in cfd.conditions())\n",
    "\n",
    ">>> tagdict = findtags('NN', nltk.corpus.brown.tagged_words(categories='news'))\n",
    ">>> for tag in sorted(tagdict):\n",
    "...     print(tag, tagdict[tag])"
   ]
  },
  {
   "cell_type": "code",
   "execution_count": 46,
   "id": "ceeeb2a8-9744-459f-8d7a-5f484e068874",
   "metadata": {},
   "outputs": [
    {
     "data": {
      "text/plain": [
       "[('the', 'DT'),\n",
       " ('aim', 'NN'),\n",
       " ('of', 'IN'),\n",
       " ('the', 'DT'),\n",
       " ('study', 'NN'),\n",
       " ('was', 'VBD'),\n",
       " ('to', 'TO'),\n",
       " ('investigate', 'VB'),\n",
       " ('the', 'DT'),\n",
       " ('prevalence', 'NN'),\n",
       " ('of', 'IN'),\n",
       " ('and', 'CC'),\n",
       " ('attitudes', 'NNS'),\n",
       " ('toward', 'IN'),\n",
       " ('vegetarianism', 'NN'),\n",
       " ('and', 'CC'),\n",
       " ('veganism', 'NN'),\n",
       " ('we', 'PRP'),\n",
       " ('also', 'RB'),\n",
       " ('assessed', 'VBD'),\n",
       " ('the', 'DT'),\n",
       " ('association', 'NN'),\n",
       " ('between', 'IN'),\n",
       " ('vegetarianism', 'NN'),\n",
       " ('veganism', 'NN'),\n",
       " ('and', 'CC'),\n",
       " ('eating', 'VBG'),\n",
       " ('disorder', 'NN'),\n",
       " ('depressive', 'NN'),\n",
       " ('and', 'CC'),\n",
       " ('somatic', 'JJ'),\n",
       " ('symptoms', 'NNS'),\n",
       " ('a', 'DT'),\n",
       " ('cross', 'NN'),\n",
       " ('sectional', 'JJ'),\n",
       " ('questionnaire', 'NN'),\n",
       " ('survey', 'NN'),\n",
       " ('in', 'IN'),\n",
       " ('adults', 'NNS'),\n",
       " ('in', 'IN'),\n",
       " ('germany', 'NN'),\n",
       " ('that', 'WDT'),\n",
       " ('was', 'VBD'),\n",
       " ('representative', 'JJ'),\n",
       " ('in', 'IN'),\n",
       " ('terms', 'NNS'),\n",
       " ('of', 'IN'),\n",
       " ('age', 'NN'),\n",
       " ('gender', 'NN'),\n",
       " ('and', 'CC'),\n",
       " ('educational', 'JJ'),\n",
       " ('level', 'NN'),\n",
       " ('was', 'VBD'),\n",
       " ('carried', 'VBN'),\n",
       " ('out', 'RP'),\n",
       " ('data', 'NNS'),\n",
       " ('from', 'IN'),\n",
       " ('adults', 'NNS'),\n",
       " ('females', 'NNS'),\n",
       " ('were', 'VBD'),\n",
       " ('included', 'VBN'),\n",
       " ('mean', 'JJ'),\n",
       " ('age', 'NN'),\n",
       " ('was', 'VBD'),\n",
       " ('sd', 'JJ'),\n",
       " ('years', 'NNS'),\n",
       " ('a', 'DT'),\n",
       " ('total', 'NN'),\n",
       " ('of', 'IN'),\n",
       " ('of', 'IN'),\n",
       " ('participants', 'NNS'),\n",
       " ('reported', 'VBN'),\n",
       " ('following', 'VBG'),\n",
       " ('a', 'DT'),\n",
       " ('vegetarian', 'JJ'),\n",
       " ('or', 'CC'),\n",
       " ('vegan', 'JJ'),\n",
       " ('diet', 'JJ'),\n",
       " ('while', 'IN'),\n",
       " ('the', 'DT'),\n",
       " ('majority', 'NN'),\n",
       " ('of', 'IN'),\n",
       " ('participants', 'NNS'),\n",
       " ('agreed', 'VBD'),\n",
       " ('that', 'IN'),\n",
       " ('vegetarian', 'JJ'),\n",
       " ('diets', 'NNS'),\n",
       " ('are', 'VBP'),\n",
       " ('healthy', 'JJ'),\n",
       " ('and', 'CC'),\n",
       " ('harmless', 'JJ'),\n",
       " ('only', 'RB'),\n",
       " ('believed', 'VBD'),\n",
       " ('this', 'DT'),\n",
       " ('to', 'TO'),\n",
       " ('be', 'VB'),\n",
       " ('true', 'JJ'),\n",
       " ('of', 'IN'),\n",
       " ('vegan', 'JJ'),\n",
       " ('diets', 'NNS'),\n",
       " ('the', 'DT'),\n",
       " ('majority', 'NN'),\n",
       " ('of', 'IN'),\n",
       " ('participants', 'NNS'),\n",
       " ('also', 'RB'),\n",
       " ('believed', 'VBD'),\n",
       " ('that', 'IN'),\n",
       " ('a', 'DT'),\n",
       " ('vegetarian', 'JJ'),\n",
       " ('or', 'CC'),\n",
       " ('vegan', 'JJ'),\n",
       " ('diet', 'JJ'),\n",
       " ('can', 'MD'),\n",
       " ('lead', 'VB'),\n",
       " ('to', 'TO'),\n",
       " ('nutritional', 'JJ'),\n",
       " ('deficiency', 'NN'),\n",
       " ('female', 'JJ'),\n",
       " ('gender', 'NN'),\n",
       " ('younger', 'JJR'),\n",
       " ('age', 'NN'),\n",
       " ('higher', 'JJR'),\n",
       " ('education', 'NN'),\n",
       " ('lower', 'RBR'),\n",
       " ('body', 'NN'),\n",
       " ('mass', 'JJ'),\n",
       " ('index', 'NN'),\n",
       " ('bmi', 'NN'),\n",
       " ('and', 'CC'),\n",
       " ('higher', 'JJR'),\n",
       " ('depressive', 'NN'),\n",
       " ('and', 'CC'),\n",
       " ('eating', 'VBG'),\n",
       " ('disorder', 'NN'),\n",
       " ('symptoms', 'NNS'),\n",
       " ('were', 'VBD'),\n",
       " ('found', 'VBN'),\n",
       " ('to', 'TO'),\n",
       " ('be', 'VB'),\n",
       " ('associated', 'VBN'),\n",
       " ('with', 'IN'),\n",
       " ('vegetarianism', 'NN'),\n",
       " ('veganism', 'NN'),\n",
       " ('we', 'PRP'),\n",
       " ('did', 'VBD'),\n",
       " ('not', 'RB'),\n",
       " ('find', 'VB'),\n",
       " ('increased', 'JJ'),\n",
       " ('physical', 'JJ'),\n",
       " ('complaints', 'NNS'),\n",
       " ('in', 'IN'),\n",
       " ('the', 'DT'),\n",
       " ('group', 'NN'),\n",
       " ('of', 'IN'),\n",
       " ('vegetarians', 'NNS'),\n",
       " ('vegans', 'NNS'),\n",
       " ('our', 'PRP$'),\n",
       " ('results', 'NNS'),\n",
       " ('point', 'VB'),\n",
       " ('toward', 'IN'),\n",
       " ('a', 'DT'),\n",
       " ('moderate', 'JJ'),\n",
       " ('prevalence', 'NN'),\n",
       " ('of', 'IN'),\n",
       " ('vegetarianism', 'NN'),\n",
       " ('veganism', 'NN'),\n",
       " ('among', 'IN'),\n",
       " ('the', 'DT'),\n",
       " ('general', 'JJ'),\n",
       " ('population', 'NN'),\n",
       " ('our', 'PRP$'),\n",
       " ('findings', 'NNS'),\n",
       " ('suggest', 'VBP'),\n",
       " ('that', 'IN'),\n",
       " ('health', 'NN'),\n",
       " ('care', 'NN'),\n",
       " ('professionals', 'NNS'),\n",
       " ('should', 'MD'),\n",
       " ('keep', 'VB'),\n",
       " ('eating', 'VBG'),\n",
       " ('disorder', 'NN'),\n",
       " ('pathology', 'NN'),\n",
       " ('affective', 'JJ'),\n",
       " ('status', 'NN'),\n",
       " ('in', 'IN'),\n",
       " ('mind', 'NN'),\n",
       " ('when', 'WRB'),\n",
       " ('dealing', 'VBG'),\n",
       " ('with', 'IN'),\n",
       " ('individuals', 'NNS'),\n",
       " ('who', 'WP'),\n",
       " ('choose', 'VBP'),\n",
       " ('a', 'DT'),\n",
       " ('vegetarian', 'JJ'),\n",
       " ('vegan', 'NN'),\n",
       " ('dietary', 'JJ'),\n",
       " ('pattern', 'NN')]"
      ]
     },
     "execution_count": 46,
     "metadata": {},
     "output_type": "execute_result"
    }
   ],
   "source": [
    "df2['abstract_tagged'][1] # maybe remove adverb"
   ]
  },
  {
   "cell_type": "code",
   "execution_count": 261,
   "id": "db9b5414-c3a8-44eb-b0fb-915fba3adaf7",
   "metadata": {},
   "outputs": [
    {
     "name": "stdout",
     "output_type": "stream",
     "text": [
      "$: dollar\n",
      "    $ -$ --$ A$ C$ HK$ M$ NZ$ S$ U.S.$ US$\n",
      "'': closing quotation mark\n",
      "    ' ''\n",
      "(: opening parenthesis\n",
      "    ( [ {\n",
      "): closing parenthesis\n",
      "    ) ] }\n",
      ",: comma\n",
      "    ,\n",
      "--: dash\n",
      "    --\n",
      ".: sentence terminator\n",
      "    . ! ?\n",
      ":: colon or ellipsis\n",
      "    : ; ...\n",
      "CC: conjunction, coordinating\n",
      "    & 'n and both but either et for less minus neither nor or plus so\n",
      "    therefore times v. versus vs. whether yet\n",
      "CD: numeral, cardinal\n",
      "    mid-1890 nine-thirty forty-two one-tenth ten million 0.5 one forty-\n",
      "    seven 1987 twenty '79 zero two 78-degrees eighty-four IX '60s .025\n",
      "    fifteen 271,124 dozen quintillion DM2,000 ...\n",
      "DT: determiner\n",
      "    all an another any both del each either every half la many much nary\n",
      "    neither no some such that the them these this those\n",
      "EX: existential there\n",
      "    there\n",
      "FW: foreign word\n",
      "    gemeinschaft hund ich jeux habeas Haementeria Herr K'ang-si vous\n",
      "    lutihaw alai je jour objets salutaris fille quibusdam pas trop Monte\n",
      "    terram fiche oui corporis ...\n",
      "IN: preposition or conjunction, subordinating\n",
      "    astride among uppon whether out inside pro despite on by throughout\n",
      "    below within for towards near behind atop around if like until below\n",
      "    next into if beside ...\n",
      "JJ: adjective or numeral, ordinal\n",
      "    third ill-mannered pre-war regrettable oiled calamitous first separable\n",
      "    ectoplasmic battery-powered participatory fourth still-to-be-named\n",
      "    multilingual multi-disciplinary ...\n",
      "JJR: adjective, comparative\n",
      "    bleaker braver breezier briefer brighter brisker broader bumper busier\n",
      "    calmer cheaper choosier cleaner clearer closer colder commoner costlier\n",
      "    cozier creamier crunchier cuter ...\n",
      "JJS: adjective, superlative\n",
      "    calmest cheapest choicest classiest cleanest clearest closest commonest\n",
      "    corniest costliest crassest creepiest crudest cutest darkest deadliest\n",
      "    dearest deepest densest dinkiest ...\n",
      "LS: list item marker\n",
      "    A A. B B. C C. D E F First G H I J K One SP-44001 SP-44002 SP-44005\n",
      "    SP-44007 Second Third Three Two * a b c d first five four one six three\n",
      "    two\n",
      "MD: modal auxiliary\n",
      "    can cannot could couldn't dare may might must need ought shall should\n",
      "    shouldn't will would\n",
      "NN: noun, common, singular or mass\n",
      "    common-carrier cabbage knuckle-duster Casino afghan shed thermostat\n",
      "    investment slide humour falloff slick wind hyena override subhumanity\n",
      "    machinist ...\n",
      "NNP: noun, proper, singular\n",
      "    Motown Venneboerger Czestochwa Ranzer Conchita Trumplane Christos\n",
      "    Oceanside Escobar Kreisler Sawyer Cougar Yvette Ervin ODI Darryl CTCA\n",
      "    Shannon A.K.C. Meltex Liverpool ...\n",
      "NNPS: noun, proper, plural\n",
      "    Americans Americas Amharas Amityvilles Amusements Anarcho-Syndicalists\n",
      "    Andalusians Andes Andruses Angels Animals Anthony Antilles Antiques\n",
      "    Apache Apaches Apocrypha ...\n",
      "NNS: noun, common, plural\n",
      "    undergraduates scotches bric-a-brac products bodyguards facets coasts\n",
      "    divestitures storehouses designs clubs fragrances averages\n",
      "    subjectivists apprehensions muses factory-jobs ...\n",
      "PDT: pre-determiner\n",
      "    all both half many quite such sure this\n",
      "POS: genitive marker\n",
      "    ' 's\n",
      "PRP: pronoun, personal\n",
      "    hers herself him himself hisself it itself me myself one oneself ours\n",
      "    ourselves ownself self she thee theirs them themselves they thou thy us\n",
      "PRP$: pronoun, possessive\n",
      "    her his mine my our ours their thy your\n",
      "RB: adverb\n",
      "    occasionally unabatingly maddeningly adventurously professedly\n",
      "    stirringly prominently technologically magisterially predominately\n",
      "    swiftly fiscally pitilessly ...\n",
      "RBR: adverb, comparative\n",
      "    further gloomier grander graver greater grimmer harder harsher\n",
      "    healthier heavier higher however larger later leaner lengthier less-\n",
      "    perfectly lesser lonelier longer louder lower more ...\n",
      "RBS: adverb, superlative\n",
      "    best biggest bluntest earliest farthest first furthest hardest\n",
      "    heartiest highest largest least less most nearest second tightest worst\n",
      "RP: particle\n",
      "    aboard about across along apart around aside at away back before behind\n",
      "    by crop down ever fast for forth from go high i.e. in into just later\n",
      "    low more off on open out over per pie raising start teeth that through\n",
      "    under unto up up-pp upon whole with you\n",
      "SYM: symbol\n",
      "    % & ' '' ''. ) ). * + ,. < = > @ A[fj] U.S U.S.S.R * ** ***\n",
      "TO: \"to\" as preposition or infinitive marker\n",
      "    to\n",
      "UH: interjection\n",
      "    Goodbye Goody Gosh Wow Jeepers Jee-sus Hubba Hey Kee-reist Oops amen\n",
      "    huh howdy uh dammit whammo shucks heck anyways whodunnit honey golly\n",
      "    man baby diddle hush sonuvabitch ...\n",
      "VB: verb, base form\n",
      "    ask assemble assess assign assume atone attention avoid bake balkanize\n",
      "    bank begin behold believe bend benefit bevel beware bless boil bomb\n",
      "    boost brace break bring broil brush build ...\n",
      "VBD: verb, past tense\n",
      "    dipped pleaded swiped regummed soaked tidied convened halted registered\n",
      "    cushioned exacted snubbed strode aimed adopted belied figgered\n",
      "    speculated wore appreciated contemplated ...\n",
      "VBG: verb, present participle or gerund\n",
      "    telegraphing stirring focusing angering judging stalling lactating\n",
      "    hankerin' alleging veering capping approaching traveling besieging\n",
      "    encrypting interrupting erasing wincing ...\n",
      "VBN: verb, past participle\n",
      "    multihulled dilapidated aerosolized chaired languished panelized used\n",
      "    experimented flourished imitated reunifed factored condensed sheared\n",
      "    unsettled primed dubbed desired ...\n",
      "VBP: verb, present tense, not 3rd person singular\n",
      "    predominate wrap resort sue twist spill cure lengthen brush terminate\n",
      "    appear tend stray glisten obtain comprise detest tease attract\n",
      "    emphasize mold postpone sever return wag ...\n",
      "VBZ: verb, present tense, 3rd person singular\n",
      "    bases reconstructs marks mixes displeases seals carps weaves snatches\n",
      "    slumps stretches authorizes smolders pictures emerges stockpiles\n",
      "    seduces fizzes uses bolsters slaps speaks pleads ...\n",
      "WDT: WH-determiner\n",
      "    that what whatever which whichever\n",
      "WP: WH-pronoun\n",
      "    that what whatever whatsoever which who whom whosoever\n",
      "WP$: WH-pronoun, possessive\n",
      "    whose\n",
      "WRB: Wh-adverb\n",
      "    how however whence whenever where whereby whereever wherein whereof why\n",
      "``: opening quotation mark\n",
      "    ` ``\n"
     ]
    }
   ],
   "source": [
    "nltk.help.upenn_tagset()"
   ]
  },
  {
   "cell_type": "markdown",
   "id": "cecce62d-9660-462b-980c-ab3a79ffffaa",
   "metadata": {},
   "source": [
    "### Removing adverb RB"
   ]
  },
  {
   "cell_type": "code",
   "execution_count": 47,
   "id": "6f94af89-7c53-42c7-a347-0b4bf8ec08e8",
   "metadata": {},
   "outputs": [],
   "source": [
    "#creating a mini function to remove adverbs # decided not to remove proper noun e.g. \n",
    "def remove_adv(tagged_text):\n",
    "    return [(word, tag) for word,tag in tagged_text if tag != 'RB'] #keeping tag for lemmatizing\n",
    "# def remove_nounp(tagged_text):\n",
    "#     return [(word, tag) for word,tag in tagged_text if tag != 'NNP'] #keeping tag for lemmatizing\n",
    "\n"
   ]
  },
  {
   "cell_type": "code",
   "execution_count": 48,
   "id": "aa136b6c-eef2-48a0-b383-f296b4042be3",
   "metadata": {
    "tags": []
   },
   "outputs": [],
   "source": [
    "#applying the remove adverb function I devided not to remove adv and nnp\n",
    "df2['abstract_tagged_no_adv'] = df2['abstract_tagged'].apply(remove_adv)#.apply(remove_nounp)\n"
   ]
  },
  {
   "cell_type": "code",
   "execution_count": 49,
   "id": "486c2451-008e-4199-820d-e17c20f758cc",
   "metadata": {},
   "outputs": [
    {
     "data": {
      "text/plain": [
       "Index(['pmc', 'title', 'abstract', 'abstract_clean', 'abstract_tokenized',\n",
       "       'abstract_tagged', 'abstract_tagged_no_adv'],\n",
       "      dtype='object')"
      ]
     },
     "execution_count": 49,
     "metadata": {},
     "output_type": "execute_result"
    }
   ],
   "source": [
    "df2.columns"
   ]
  },
  {
   "cell_type": "markdown",
   "id": "c42015a0-30a9-439c-bef5-d97a422732e1",
   "metadata": {},
   "source": [
    "### Lemmatizing"
   ]
  },
  {
   "cell_type": "code",
   "execution_count": 50,
   "id": "7b1a3e2e-7ca1-4c18-9af8-a6d9c8c095cb",
   "metadata": {},
   "outputs": [],
   "source": [
    "#creating a function to convert post_tags to WordNet friendly tags, then lemmatizing\n",
    "def lemmatize_all(tagged_text):\n",
    "    doc_lemm = []\n",
    "    wnl = WordNetLemmatizer()\n",
    "    for word, tag in (tagged_text):\n",
    "        if tag.startswith(\"NN\"):\n",
    "            doc_lemm.append(wnl.lemmatize(word, wordnet.NOUN))\n",
    "        elif tag.startswith('VB'):\n",
    "            doc_lemm.append(wnl.lemmatize(word, wordnet.VERB))\n",
    "        elif tag.startswith('JJ'):\n",
    "            doc_lemm.append(wnl.lemmatize(word, wordnet.ADJ))\n",
    "        else:\n",
    "            doc_lemm.append(word)\n",
    "    return doc_lemm"
   ]
  },
  {
   "cell_type": "code",
   "execution_count": 51,
   "id": "cd55ad3c-b034-47a1-8f30-786889b9c4dc",
   "metadata": {},
   "outputs": [],
   "source": [
    "#applying the lemmatization function\n",
    "df2['abstract_lemm'] = df2['abstract_tagged_no_adv'].apply(lemmatize_all)"
   ]
  },
  {
   "cell_type": "code",
   "execution_count": 53,
   "id": "affbbc20-3c28-45db-8323-eca51f1232fe",
   "metadata": {},
   "outputs": [],
   "source": [
    "# df2['abstract_lemm']"
   ]
  },
  {
   "cell_type": "code",
   "execution_count": 297,
   "id": "88775ffd-80b9-416a-9714-7b5747a9e389",
   "metadata": {},
   "outputs": [
    {
     "data": {
      "text/plain": [
       "Index(['pmc', 'title', 'abstract', 'abstract_clean', 'abstract_tokenized',\n",
       "       'abstract_tagged', 'abstract_tagged_no_adv', 'abstract_lemm'],\n",
       "      dtype='object')"
      ]
     },
     "execution_count": 297,
     "metadata": {},
     "output_type": "execute_result"
    }
   ],
   "source": [
    "df.columns"
   ]
  },
  {
   "cell_type": "code",
   "execution_count": 293,
   "id": "4c2fece7-bcb2-424c-ae8a-94c0de773d13",
   "metadata": {},
   "outputs": [
    {
     "name": "stderr",
     "output_type": "stream",
     "text": [
      "<ipython-input-293-3b0079ef874f>:1: FutureWarning: The default value of regex will change from True to False in a future version. In addition, single character regular expressions will*not* be treated as literal strings when regex=True.\n",
      "  df['abstract_lemm'] = df['abstract_lemm'].str.replace('.', '')\n"
     ]
    }
   ],
   "source": [
    "#df.drop['abstract_lemm',inplace =True]"
   ]
  },
  {
   "cell_type": "code",
   "execution_count": 55,
   "id": "8761478b-a238-4e88-9d37-b42b8d5b7d91",
   "metadata": {},
   "outputs": [],
   "source": [
    "# if you want to add additional words, use .union(['word']), \n",
    "# where word = a word you want to add as a stop word\n",
    "add_words = ['©','°c',';','(',')','copyright','ii','s','mm','hg','iii','iiii','iv','xi','h','n', 'p', 'lf' ,'rf','should', 'mine', 'yourselves', 'whatever', 'alone', 'km', \n",
    "             'nevertheless', 'thru', 'whence', 'whenever', 'nobody', 'who', 'so', 'put', 'amount', 'since', 'say', 'become', 'thereafter', 'there', 'though', 'yet', 'nothing', \n",
    "             'over', 'about', 'no', 'they', 'regarding', 'that', 'all', 'might', 'towards', 'were', 'what', 'yourself', 'indeed', 'him', 'five', 'latter', 'moreover', 'least', \n",
    "             'whereupon', 'empty', 'twenty', 'being', 'its', 'within', 'across', 'and', 'cry', 'until', 'eleven', 'below', 'see', 'less', 'without', 'latterly', 'former', \n",
    "             'beyond', 'formerly', 'each', 'by', 'very', 'give', 'once', 'under', 'side', 'seemed', 'thence', 'beforehand', 'nine', 'could', 'amongst', 'find', 'computer', 'up', 'this', 'off', \n",
    "             'via', 'beside', 'using', 'ltd', 'are', 'therein', 'fifty', 'even', 'only', 'thereby', 'then', 'more', 'co', 'cannot', 'would', 'much', 'perhaps', 'us', 'anything', 'at', 'everyone', 're', \n",
    "             'down', 'whereby', 'not', 'go', 'am', 'afterwards', 'does', 'did', 'elsewhere', 'our', 'make', 'eight', 'to', 'last', 'too', 'his', 'became', 'i', 'such', 'other', 'in', 'due', 'back', \n",
    "             'either', 'everything', 'why', 'call', 'becoming', 'around', 'another', 'four', 'been', 'yours', 'sometime', 'please', 'into', 'hence', 'besides', 'ten', 'ourselves', 'mill', 'fill', 'just', \n",
    "             'against', 'had', 'full', 'have', 'here', 'with', 'above', 'although', 'show', 'herself', 'whereafter', 'me', 'don', 'well', 'always', 'the', 'but', 'of', 'every', 'get', 'same', 'be', 'becomes', \n",
    "             'thick', 'still', 'these', 'on', 'myself', 'anywhere', 'detail', 'someone', 'thin', 'kg', 'between', 'before', 'top', 'among', 'something', 'during', 'while', 'thereupon', 'for', 'has', 'bill',  \n",
    "             'move', 'fire', 'anyhow', 'your', 'own', 'twelve', 'con', 'wherein', 'except', 'through', 'seeming', 'etc', 'third', 'themselves', 'nowhere', 'again', 'whereas', 'many', 'their', 'ever', 'thus',\n",
    "             'name', 'hereby', 'from', 'couldnt', 'along', 'six', 'than', 'doing', 'whose', 'herein', 'hereupon', 'didn', 'doesn', 'sometimes', 'whoever', 'keep', 'used', 'enough', 'upon', 'if', 'together', \n",
    "             'made', 'out', 'mostly', 'one', 'where', 'onto', 'eg', 'really', 'she', 'itself', 'must', 'inc', 'as', 'anyway', 'bottom', 'he', 'namely', 'front', 'de', 'ours', 'whither', 'hundred', 'everywhere', \n",
    "             'those', 'un', 'my', 'few', 'may', 'quite', 'often', 'wherever', 'meanwhile', 'when', 'himself', 'will', 'somehow', 'can', 'noone', 'now', 'cant', 'fifteen', 'various', 'serious', 'amoungst', \n",
    "             'seems', 'whom', 'some', 'unless', 'whether', 'anyone', 'done', 'both', 'them', 'we', 'which', 'none', 'hers', 'almost', 'whole', 'do', 'was', 'several', 'however', 'otherwise', 'nor', 'a', \n",
    "             'first', 'behind', 'most', 'forty', 'found', 'seem', 'else', 'part', 'toward', 'take', 'it', 'sincere', 'also', 'two', 'never', 'already', 'others', 'somewhere', 'next', 'her', 'rather', 'after', \n",
    "             'sixty', 'because', 'or', 'hereafter', 'is', 'an', 'hasnt', 'describe', 'per', 'any', 'throughout', 'you', 'ie', 'three', 'therefore', 'how', 'system', 'further', 'neither'] \n",
    "# gensim stopwords added\n",
    "stop_words = ENGLISH_STOP_WORDS.union(add_words)\n",
    "df2['abstract_stopwords'] = df2['abstract_lemm'].apply(lambda x: ' '.join([word for word in x if word not in stop_words]))"
   ]
  },
  {
   "cell_type": "code",
   "execution_count": 57,
   "id": "add8ba85-771e-429e-9b44-b6bdc14bd5be",
   "metadata": {},
   "outputs": [],
   "source": [
    "df2['abstract_modeling'] = df2['abstract_stopwords'].apply(word_tokenize)"
   ]
  },
  {
   "cell_type": "code",
   "execution_count": 59,
   "id": "0ed07f06-4cbe-476c-8680-e1887e8c98a2",
   "metadata": {},
   "outputs": [],
   "source": [
    "df2.to_pickle(\"abstracts_for_modeling_final.pkl\")  \n",
    "#df = pd.read_pickle(\"abstracts_for_modeling_final.pkl\") "
   ]
  },
  {
   "cell_type": "code",
   "execution_count": 79,
   "id": "7fe22a48-daf2-4ead-a6bc-eb3bf2d63532",
   "metadata": {},
   "outputs": [],
   "source": [
    "## maybe used for future ones, right now it is too aggressive \n",
    "# df3=df.copy()\n",
    "# def stem_text(text):\n",
    "#     doc_stemmed = []\n",
    "#     stemmer = LancasterStemmer()\n",
    "    \n",
    "#     for word in text:\n",
    "#         doc_stemmed.append(stemmer.stem(word))\n",
    "        \n",
    "#     return doc_stemmed\n",
    "# df3['abstract_stemmed'] = df3['abstract_tokenized'].apply(stem_text)\n",
    "# df3['abstract_stemmed'][8]\n",
    "# df_stem=df3\n",
    "# #df_stem.to_pickle(\"stem_abstract.pkl\")  \n",
    "#df = pd.read_pickle(\"stem_abstract.pkl\") "
   ]
  },
  {
   "cell_type": "markdown",
   "id": "43b9dcf4-8ebf-4ef2-8fa9-b92bc600dca4",
   "metadata": {},
   "source": [
    "# Notes for self are below"
   ]
  },
  {
   "cell_type": "markdown",
   "id": "29a30505-c270-4220-8db5-821672a9ccc4",
   "metadata": {},
   "source": [
    "# import re\n",
    "#re.findall('one', text) # \\w. words.   \\d digits    '[ab]' match a OR b eg '[od]ne' eg '1\\d+'\n",
    " \n",
    "small_df = pf.DataFrame([[1, 'hello'],[2,'bye']], columns = ['num','text'])\n",
    "\n",
    "small_df.text = small_Df.text.map(lambda x: re.sub('e','E', x))\n",
    "\n",
    "\n",
    "# punctuation\n",
    "df.reviews = df.reviews.map(lambda x: re.sub('[%s]' % re.escape(string.punctuation), ' ', x))\n",
    "\n",
    "df.reviews = df.reviews.map(lambda x: re.sub('<br />', ' ', x)) # special characteristics \n",
    "\n",
    "# capital letters \n",
    "check\n",
    "assert len(re.findall('[A-Z]+',df.reviews.to_string())) == 0,\n",
    "# numbers\n",
    "# stop words (little semantic meaning)"
   ]
  },
  {
   "cell_type": "markdown",
   "id": "e8f2e900-a6d4-4b53-9b00-c9368ea2b641",
   "metadata": {},
   "source": [
    "## example for stop words\n",
    "example_sentence = 'this is an example showing off stop word filtration.'\n",
    "stop_words = set(stopwords.words('english'))\n",
    "words = word_tokenize(example_sentence)\n",
    "filtered_sentence = []\n",
    "\n",
    "for w in words:\n",
    "    if w not in stop_words:\n",
    "        filtered_sentence.append(w)\n",
    "filtered_sentence\n",
    "\n",
    "filtered_sentence = [w for w in words if not w in stop_words]"
   ]
  },
  {
   "cell_type": "markdown",
   "id": "b8aa7993-c907-402e-b912-eafde9f46e2b",
   "metadata": {},
   "source": [
    "## tokenize\n",
    "import re\n",
    "def tokenization(text):\n",
    "    tokens = re.split('W+',text)\n",
    "    return tokens\n",
    "#applying function to the column\n",
    "data['msg_tokenied']= data['msg_lower'].apply(lambda x: tokenization(x))"
   ]
  },
  {
   "cell_type": "code",
   "execution_count": null,
   "id": "5802c890-127f-4a18-8f27-bdca12b0936e",
   "metadata": {},
   "outputs": [],
   "source": []
  }
 ],
 "metadata": {
  "kernelspec": {
   "display_name": "Python 3",
   "language": "python",
   "name": "python3"
  },
  "language_info": {
   "codemirror_mode": {
    "name": "ipython",
    "version": 3
   },
   "file_extension": ".py",
   "mimetype": "text/x-python",
   "name": "python",
   "nbconvert_exporter": "python",
   "pygments_lexer": "ipython3",
   "version": "3.8.8"
  }
 },
 "nbformat": 4,
 "nbformat_minor": 5
}
